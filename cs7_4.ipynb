{
 "cells": [
  {
   "cell_type": "code",
   "execution_count": 43,
   "metadata": {},
   "outputs": [],
   "source": [
    "import pandas as pd\n",
    "import numpy as np\n",
    "import plotly.express as px\n",
    "import plotly.graph_objects as go\n",
    "from sklearn.preprocessing import StandardScaler\n",
    "from sklearn.model_selection import train_test_split\n",
    "import tensorflow as tf\n",
    "from tensorflow import keras\n",
    "from tensorflow.keras import layers, regularizers\n",
    "import keras_tuner as kt\n",
    "from sklearn.impute import SimpleImputer\n",
    "from sklearn.compose import ColumnTransformer\n",
    "from sklearn.model_selection import KFold\n",
    "from sklearn.metrics import precision_score, recall_score, f1_score, confusion_matrix, accuracy_score\n"
   ]
  },
  {
   "cell_type": "code",
   "execution_count": 44,
   "metadata": {},
   "outputs": [
    {
     "name": "stdout",
     "output_type": "stream",
     "text": [
      "REPLICAS:  1\n",
      "Num GPUs Available:  1\n"
     ]
    }
   ],
   "source": [
    "try:\n",
    "    tpu = tf.distribute.cluster_resolver.TPUClusterResolver()  # TPU detection. No parameters necessary if TPU_NAME environment variable is set. On Kaggle this is always the case.\n",
    "    print('Running on TPU ', tpu.master())\n",
    "except ValueError:\n",
    "    tpu = None\n",
    "\n",
    "if tpu:\n",
    "    tf.config.experimental_connect_to_cluster(tpu)\n",
    "    tf.tpu.experimental.initialize_tpu_system(tpu)\n",
    "    strategy = tf.distribute.experimental.TPUStrategy(tpu)\n",
    "else:\n",
    "    strategy = tf.distribute.get_strategy() # default distribution strategy in Tensorflow. Works on CPU and single GPU.\n",
    "\n",
    "print(\"REPLICAS: \", strategy.num_replicas_in_sync)\n",
    "print(\"Num GPUs Available: \", len(tf.config.list_physical_devices('GPU')))"
   ]
  },
  {
   "cell_type": "code",
   "execution_count": 45,
   "metadata": {},
   "outputs": [],
   "source": [
    "df = pd.read_csv('final_project.csv')"
   ]
  },
  {
   "cell_type": "code",
   "execution_count": 46,
   "metadata": {},
   "outputs": [
    {
     "data": {
      "text/plain": [
       "x0     float64\n",
       "x1     float64\n",
       "x2     float64\n",
       "x3     float64\n",
       "x4     float64\n",
       "x5     float64\n",
       "x6     float64\n",
       "x7     float64\n",
       "x8     float64\n",
       "x9     float64\n",
       "x10    float64\n",
       "x11    float64\n",
       "x12    float64\n",
       "x13    float64\n",
       "x14    float64\n",
       "x15    float64\n",
       "x16    float64\n",
       "x17    float64\n",
       "x18    float64\n",
       "x19    float64\n",
       "x20    float64\n",
       "x21    float64\n",
       "x22    float64\n",
       "x23    float64\n",
       "x24     object\n",
       "x25    float64\n",
       "x26    float64\n",
       "x27    float64\n",
       "x28    float64\n",
       "x29     object\n",
       "x30     object\n",
       "x31    float64\n",
       "x32     object\n",
       "x33    float64\n",
       "x34    float64\n",
       "x35    float64\n",
       "x36    float64\n",
       "x37     object\n",
       "x38    float64\n",
       "x39    float64\n",
       "x40    float64\n",
       "x41    float64\n",
       "x42    float64\n",
       "x43    float64\n",
       "x44    float64\n",
       "x45    float64\n",
       "x46    float64\n",
       "x47    float64\n",
       "x48    float64\n",
       "x49    float64\n",
       "y        int64\n",
       "dtype: object"
      ]
     },
     "execution_count": 46,
     "metadata": {},
     "output_type": "execute_result"
    }
   ],
   "source": [
    "df.dtypes"
   ]
  },
  {
   "attachments": {},
   "cell_type": "markdown",
   "metadata": {},
   "source": [
    "Check data quality"
   ]
  },
  {
   "cell_type": "code",
   "execution_count": 47,
   "metadata": {},
   "outputs": [
    {
     "name": "stdout",
     "output_type": "stream",
     "text": [
      "x0     26\n",
      "x1     25\n",
      "x2     38\n",
      "x3     37\n",
      "x4     26\n",
      "x5     37\n",
      "x6     26\n",
      "x7     27\n",
      "x8     21\n",
      "x9     30\n",
      "x10    43\n",
      "x11    30\n",
      "x12    36\n",
      "x13    31\n",
      "x14    34\n",
      "x15    35\n",
      "x16    26\n",
      "x17    27\n",
      "x18    40\n",
      "x19    35\n",
      "x20    38\n",
      "x21    29\n",
      "x22    27\n",
      "x23    47\n",
      "x24    28\n",
      "x25    22\n",
      "x26    36\n",
      "x27    30\n",
      "x28    35\n",
      "x29    30\n",
      "x30    30\n",
      "x31    39\n",
      "x32    31\n",
      "x33    41\n",
      "x34    41\n",
      "x35    30\n",
      "x36    27\n",
      "x37    23\n",
      "x38    31\n",
      "x39    23\n",
      "x40    36\n",
      "x41    40\n",
      "x42    26\n",
      "x43    37\n",
      "x44    40\n",
      "x45    29\n",
      "x46    31\n",
      "x47    37\n",
      "x48    32\n",
      "x49    32\n",
      "y       0\n",
      "dtype: int64\n",
      "0    95803\n",
      "1    64197\n",
      "Name: y, dtype: int64\n"
     ]
    }
   ],
   "source": [
    "count_na = df.isna().sum()\n",
    "print(count_na)\n",
    "class_counts = df['y'].value_counts()\n",
    "print(class_counts)"
   ]
  },
  {
   "cell_type": "code",
   "execution_count": 91,
   "metadata": {},
   "outputs": [
    {
     "data": {
      "application/vnd.plotly.v1+json": {
       "config": {
        "plotlyServerURL": "https://plot.ly"
       },
       "data": [
        {
         "marker": {
          "color": "#92B2F7"
         },
         "name": "0",
         "orientation": "h",
         "text": [
          "95803"
         ],
         "textposition": "auto",
         "type": "bar",
         "x": [
          95803
         ],
         "y": [
          "0"
         ]
        },
        {
         "marker": {
          "color": "#FA7D7A"
         },
         "name": "1",
         "orientation": "h",
         "text": [
          "64197"
         ],
         "textposition": "auto",
         "type": "bar",
         "x": [
          64197
         ],
         "y": [
          "1"
         ]
        }
       ],
       "layout": {
        "autosize": false,
        "height": 500,
        "margin": {
         "b": 100,
         "l": 50,
         "pad": 4,
         "r": 50,
         "t": 100
        },
        "plot_bgcolor": "white",
        "showlegend": false,
        "template": {
         "data": {
          "bar": [
           {
            "error_x": {
             "color": "#2a3f5f"
            },
            "error_y": {
             "color": "#2a3f5f"
            },
            "marker": {
             "line": {
              "color": "#E5ECF6",
              "width": 0.5
             },
             "pattern": {
              "fillmode": "overlay",
              "size": 10,
              "solidity": 0.2
             }
            },
            "type": "bar"
           }
          ],
          "barpolar": [
           {
            "marker": {
             "line": {
              "color": "#E5ECF6",
              "width": 0.5
             },
             "pattern": {
              "fillmode": "overlay",
              "size": 10,
              "solidity": 0.2
             }
            },
            "type": "barpolar"
           }
          ],
          "carpet": [
           {
            "aaxis": {
             "endlinecolor": "#2a3f5f",
             "gridcolor": "white",
             "linecolor": "white",
             "minorgridcolor": "white",
             "startlinecolor": "#2a3f5f"
            },
            "baxis": {
             "endlinecolor": "#2a3f5f",
             "gridcolor": "white",
             "linecolor": "white",
             "minorgridcolor": "white",
             "startlinecolor": "#2a3f5f"
            },
            "type": "carpet"
           }
          ],
          "choropleth": [
           {
            "colorbar": {
             "outlinewidth": 0,
             "ticks": ""
            },
            "type": "choropleth"
           }
          ],
          "contour": [
           {
            "colorbar": {
             "outlinewidth": 0,
             "ticks": ""
            },
            "colorscale": [
             [
              0,
              "#0d0887"
             ],
             [
              0.1111111111111111,
              "#46039f"
             ],
             [
              0.2222222222222222,
              "#7201a8"
             ],
             [
              0.3333333333333333,
              "#9c179e"
             ],
             [
              0.4444444444444444,
              "#bd3786"
             ],
             [
              0.5555555555555556,
              "#d8576b"
             ],
             [
              0.6666666666666666,
              "#ed7953"
             ],
             [
              0.7777777777777778,
              "#fb9f3a"
             ],
             [
              0.8888888888888888,
              "#fdca26"
             ],
             [
              1,
              "#f0f921"
             ]
            ],
            "type": "contour"
           }
          ],
          "contourcarpet": [
           {
            "colorbar": {
             "outlinewidth": 0,
             "ticks": ""
            },
            "type": "contourcarpet"
           }
          ],
          "heatmap": [
           {
            "colorbar": {
             "outlinewidth": 0,
             "ticks": ""
            },
            "colorscale": [
             [
              0,
              "#0d0887"
             ],
             [
              0.1111111111111111,
              "#46039f"
             ],
             [
              0.2222222222222222,
              "#7201a8"
             ],
             [
              0.3333333333333333,
              "#9c179e"
             ],
             [
              0.4444444444444444,
              "#bd3786"
             ],
             [
              0.5555555555555556,
              "#d8576b"
             ],
             [
              0.6666666666666666,
              "#ed7953"
             ],
             [
              0.7777777777777778,
              "#fb9f3a"
             ],
             [
              0.8888888888888888,
              "#fdca26"
             ],
             [
              1,
              "#f0f921"
             ]
            ],
            "type": "heatmap"
           }
          ],
          "heatmapgl": [
           {
            "colorbar": {
             "outlinewidth": 0,
             "ticks": ""
            },
            "colorscale": [
             [
              0,
              "#0d0887"
             ],
             [
              0.1111111111111111,
              "#46039f"
             ],
             [
              0.2222222222222222,
              "#7201a8"
             ],
             [
              0.3333333333333333,
              "#9c179e"
             ],
             [
              0.4444444444444444,
              "#bd3786"
             ],
             [
              0.5555555555555556,
              "#d8576b"
             ],
             [
              0.6666666666666666,
              "#ed7953"
             ],
             [
              0.7777777777777778,
              "#fb9f3a"
             ],
             [
              0.8888888888888888,
              "#fdca26"
             ],
             [
              1,
              "#f0f921"
             ]
            ],
            "type": "heatmapgl"
           }
          ],
          "histogram": [
           {
            "marker": {
             "pattern": {
              "fillmode": "overlay",
              "size": 10,
              "solidity": 0.2
             }
            },
            "type": "histogram"
           }
          ],
          "histogram2d": [
           {
            "colorbar": {
             "outlinewidth": 0,
             "ticks": ""
            },
            "colorscale": [
             [
              0,
              "#0d0887"
             ],
             [
              0.1111111111111111,
              "#46039f"
             ],
             [
              0.2222222222222222,
              "#7201a8"
             ],
             [
              0.3333333333333333,
              "#9c179e"
             ],
             [
              0.4444444444444444,
              "#bd3786"
             ],
             [
              0.5555555555555556,
              "#d8576b"
             ],
             [
              0.6666666666666666,
              "#ed7953"
             ],
             [
              0.7777777777777778,
              "#fb9f3a"
             ],
             [
              0.8888888888888888,
              "#fdca26"
             ],
             [
              1,
              "#f0f921"
             ]
            ],
            "type": "histogram2d"
           }
          ],
          "histogram2dcontour": [
           {
            "colorbar": {
             "outlinewidth": 0,
             "ticks": ""
            },
            "colorscale": [
             [
              0,
              "#0d0887"
             ],
             [
              0.1111111111111111,
              "#46039f"
             ],
             [
              0.2222222222222222,
              "#7201a8"
             ],
             [
              0.3333333333333333,
              "#9c179e"
             ],
             [
              0.4444444444444444,
              "#bd3786"
             ],
             [
              0.5555555555555556,
              "#d8576b"
             ],
             [
              0.6666666666666666,
              "#ed7953"
             ],
             [
              0.7777777777777778,
              "#fb9f3a"
             ],
             [
              0.8888888888888888,
              "#fdca26"
             ],
             [
              1,
              "#f0f921"
             ]
            ],
            "type": "histogram2dcontour"
           }
          ],
          "mesh3d": [
           {
            "colorbar": {
             "outlinewidth": 0,
             "ticks": ""
            },
            "type": "mesh3d"
           }
          ],
          "parcoords": [
           {
            "line": {
             "colorbar": {
              "outlinewidth": 0,
              "ticks": ""
             }
            },
            "type": "parcoords"
           }
          ],
          "pie": [
           {
            "automargin": true,
            "type": "pie"
           }
          ],
          "scatter": [
           {
            "fillpattern": {
             "fillmode": "overlay",
             "size": 10,
             "solidity": 0.2
            },
            "type": "scatter"
           }
          ],
          "scatter3d": [
           {
            "line": {
             "colorbar": {
              "outlinewidth": 0,
              "ticks": ""
             }
            },
            "marker": {
             "colorbar": {
              "outlinewidth": 0,
              "ticks": ""
             }
            },
            "type": "scatter3d"
           }
          ],
          "scattercarpet": [
           {
            "marker": {
             "colorbar": {
              "outlinewidth": 0,
              "ticks": ""
             }
            },
            "type": "scattercarpet"
           }
          ],
          "scattergeo": [
           {
            "marker": {
             "colorbar": {
              "outlinewidth": 0,
              "ticks": ""
             }
            },
            "type": "scattergeo"
           }
          ],
          "scattergl": [
           {
            "marker": {
             "colorbar": {
              "outlinewidth": 0,
              "ticks": ""
             }
            },
            "type": "scattergl"
           }
          ],
          "scattermapbox": [
           {
            "marker": {
             "colorbar": {
              "outlinewidth": 0,
              "ticks": ""
             }
            },
            "type": "scattermapbox"
           }
          ],
          "scatterpolar": [
           {
            "marker": {
             "colorbar": {
              "outlinewidth": 0,
              "ticks": ""
             }
            },
            "type": "scatterpolar"
           }
          ],
          "scatterpolargl": [
           {
            "marker": {
             "colorbar": {
              "outlinewidth": 0,
              "ticks": ""
             }
            },
            "type": "scatterpolargl"
           }
          ],
          "scatterternary": [
           {
            "marker": {
             "colorbar": {
              "outlinewidth": 0,
              "ticks": ""
             }
            },
            "type": "scatterternary"
           }
          ],
          "surface": [
           {
            "colorbar": {
             "outlinewidth": 0,
             "ticks": ""
            },
            "colorscale": [
             [
              0,
              "#0d0887"
             ],
             [
              0.1111111111111111,
              "#46039f"
             ],
             [
              0.2222222222222222,
              "#7201a8"
             ],
             [
              0.3333333333333333,
              "#9c179e"
             ],
             [
              0.4444444444444444,
              "#bd3786"
             ],
             [
              0.5555555555555556,
              "#d8576b"
             ],
             [
              0.6666666666666666,
              "#ed7953"
             ],
             [
              0.7777777777777778,
              "#fb9f3a"
             ],
             [
              0.8888888888888888,
              "#fdca26"
             ],
             [
              1,
              "#f0f921"
             ]
            ],
            "type": "surface"
           }
          ],
          "table": [
           {
            "cells": {
             "fill": {
              "color": "#EBF0F8"
             },
             "line": {
              "color": "white"
             }
            },
            "header": {
             "fill": {
              "color": "#C8D4E3"
             },
             "line": {
              "color": "white"
             }
            },
            "type": "table"
           }
          ]
         },
         "layout": {
          "annotationdefaults": {
           "arrowcolor": "#2a3f5f",
           "arrowhead": 0,
           "arrowwidth": 1
          },
          "autotypenumbers": "strict",
          "coloraxis": {
           "colorbar": {
            "outlinewidth": 0,
            "ticks": ""
           }
          },
          "colorscale": {
           "diverging": [
            [
             0,
             "#8e0152"
            ],
            [
             0.1,
             "#c51b7d"
            ],
            [
             0.2,
             "#de77ae"
            ],
            [
             0.3,
             "#f1b6da"
            ],
            [
             0.4,
             "#fde0ef"
            ],
            [
             0.5,
             "#f7f7f7"
            ],
            [
             0.6,
             "#e6f5d0"
            ],
            [
             0.7,
             "#b8e186"
            ],
            [
             0.8,
             "#7fbc41"
            ],
            [
             0.9,
             "#4d9221"
            ],
            [
             1,
             "#276419"
            ]
           ],
           "sequential": [
            [
             0,
             "#0d0887"
            ],
            [
             0.1111111111111111,
             "#46039f"
            ],
            [
             0.2222222222222222,
             "#7201a8"
            ],
            [
             0.3333333333333333,
             "#9c179e"
            ],
            [
             0.4444444444444444,
             "#bd3786"
            ],
            [
             0.5555555555555556,
             "#d8576b"
            ],
            [
             0.6666666666666666,
             "#ed7953"
            ],
            [
             0.7777777777777778,
             "#fb9f3a"
            ],
            [
             0.8888888888888888,
             "#fdca26"
            ],
            [
             1,
             "#f0f921"
            ]
           ],
           "sequentialminus": [
            [
             0,
             "#0d0887"
            ],
            [
             0.1111111111111111,
             "#46039f"
            ],
            [
             0.2222222222222222,
             "#7201a8"
            ],
            [
             0.3333333333333333,
             "#9c179e"
            ],
            [
             0.4444444444444444,
             "#bd3786"
            ],
            [
             0.5555555555555556,
             "#d8576b"
            ],
            [
             0.6666666666666666,
             "#ed7953"
            ],
            [
             0.7777777777777778,
             "#fb9f3a"
            ],
            [
             0.8888888888888888,
             "#fdca26"
            ],
            [
             1,
             "#f0f921"
            ]
           ]
          },
          "colorway": [
           "#636efa",
           "#EF553B",
           "#00cc96",
           "#ab63fa",
           "#FFA15A",
           "#19d3f3",
           "#FF6692",
           "#B6E880",
           "#FF97FF",
           "#FECB52"
          ],
          "font": {
           "color": "#2a3f5f"
          },
          "geo": {
           "bgcolor": "white",
           "lakecolor": "white",
           "landcolor": "#E5ECF6",
           "showlakes": true,
           "showland": true,
           "subunitcolor": "white"
          },
          "hoverlabel": {
           "align": "left"
          },
          "hovermode": "closest",
          "mapbox": {
           "style": "light"
          },
          "paper_bgcolor": "white",
          "plot_bgcolor": "#E5ECF6",
          "polar": {
           "angularaxis": {
            "gridcolor": "white",
            "linecolor": "white",
            "ticks": ""
           },
           "bgcolor": "#E5ECF6",
           "radialaxis": {
            "gridcolor": "white",
            "linecolor": "white",
            "ticks": ""
           }
          },
          "scene": {
           "xaxis": {
            "backgroundcolor": "#E5ECF6",
            "gridcolor": "white",
            "gridwidth": 2,
            "linecolor": "white",
            "showbackground": true,
            "ticks": "",
            "zerolinecolor": "white"
           },
           "yaxis": {
            "backgroundcolor": "#E5ECF6",
            "gridcolor": "white",
            "gridwidth": 2,
            "linecolor": "white",
            "showbackground": true,
            "ticks": "",
            "zerolinecolor": "white"
           },
           "zaxis": {
            "backgroundcolor": "#E5ECF6",
            "gridcolor": "white",
            "gridwidth": 2,
            "linecolor": "white",
            "showbackground": true,
            "ticks": "",
            "zerolinecolor": "white"
           }
          },
          "shapedefaults": {
           "line": {
            "color": "#2a3f5f"
           }
          },
          "ternary": {
           "aaxis": {
            "gridcolor": "white",
            "linecolor": "white",
            "ticks": ""
           },
           "baxis": {
            "gridcolor": "white",
            "linecolor": "white",
            "ticks": ""
           },
           "bgcolor": "#E5ECF6",
           "caxis": {
            "gridcolor": "white",
            "linecolor": "white",
            "ticks": ""
           }
          },
          "title": {
           "x": 0.05
          },
          "xaxis": {
           "automargin": true,
           "gridcolor": "white",
           "linecolor": "white",
           "ticks": "",
           "title": {
            "standoff": 15
           },
           "zerolinecolor": "white",
           "zerolinewidth": 2
          },
          "yaxis": {
           "automargin": true,
           "gridcolor": "white",
           "linecolor": "white",
           "ticks": "",
           "title": {
            "standoff": 15
           },
           "zerolinecolor": "white",
           "zerolinewidth": 2
          }
         }
        },
        "title": {
         "text": "Frequency of Negative and Positive Class",
         "x": 0.5
        },
        "width": 500,
        "xaxis": {
         "gridcolor": "lightgrey",
         "title": {
          "text": "Frequency"
         }
        },
        "yaxis": {
         "title": {
          "text": "Label"
         }
        }
       }
      }
     },
     "metadata": {},
     "output_type": "display_data"
    }
   ],
   "source": [
    "color_list = ['#92B2F7', '#FA7D7A']\n",
    "fig = go.Figure()\n",
    "#create a horizontal bar for each class in the particle data.\n",
    "for idx, (label, count) in enumerate(class_counts.items()):\n",
    "    fig.add_trace(\n",
    "        go.Bar(\n",
    "            y=[str(label)],\n",
    "            x=[count],\n",
    "            name=str(label),\n",
    "            orientation='h',\n",
    "            text=[count],\n",
    "            textposition='auto',\n",
    "            marker_color=color_list[idx % len(color_list)]\n",
    "        )\n",
    "    )\n",
    "\n",
    "fig.update_layout(\n",
    "    title_text='Frequency of Negative and Positive Class',\n",
    "    title_x=0.5, \n",
    "    xaxis_title='Frequency',\n",
    "    yaxis_title='Label',\n",
    "    showlegend = False,\n",
    "    autosize=False,\n",
    "    width=500,\n",
    "    height=500,\n",
    "    margin=dict(l=50, r=50, b=100, t=100, pad=4),\n",
    "    plot_bgcolor='white', \n",
    "    xaxis=dict(gridcolor='lightgrey')\n",
    ")\n",
    "\n",
    "fig.show()"
   ]
  },
  {
   "attachments": {},
   "cell_type": "markdown",
   "metadata": {},
   "source": [
    "Handling the % in 'x32' by stripping the % and converting to float, then divide by 100"
   ]
  },
  {
   "cell_type": "code",
   "execution_count": 48,
   "metadata": {},
   "outputs": [
    {
     "data": {
      "text/plain": [
       "0         0.0000\n",
       "1        -0.0002\n",
       "2        -0.0001\n",
       "3         0.0001\n",
       "4         0.0001\n",
       "           ...  \n",
       "159995    0.0000\n",
       "159996   -0.0001\n",
       "159997   -0.0000\n",
       "159998   -0.0002\n",
       "159999    0.0002\n",
       "Name: x32, Length: 160000, dtype: float64"
      ]
     },
     "execution_count": 48,
     "metadata": {},
     "output_type": "execute_result"
    }
   ],
   "source": [
    "df['x32'] = df['x32'].str.replace('%', '')\n",
    "df['x32'] = pd.to_numeric(df['x32']) / 100\n",
    "df['x32']"
   ]
  },
  {
   "attachments": {},
   "cell_type": "markdown",
   "metadata": {},
   "source": [
    "Handling column 'x37' by stripping the $ and converting it to a float64"
   ]
  },
  {
   "cell_type": "code",
   "execution_count": 49,
   "metadata": {},
   "outputs": [
    {
     "name": "stderr",
     "output_type": "stream",
     "text": [
      "C:\\Users\\jason\\AppData\\Local\\Temp\\ipykernel_13180\\3516218164.py:1: FutureWarning: The default value of regex will change from True to False in a future version. In addition, single character regular expressions will *not* be treated as literal strings when regex=True.\n",
      "  df['x37'] = df['x37'].str.replace('$', '')\n"
     ]
    },
    {
     "data": {
      "text/plain": [
       "0         1313.96\n",
       "1         1962.78\n",
       "2          430.47\n",
       "3        -2366.29\n",
       "4         -620.66\n",
       "           ...   \n",
       "159995    -891.96\n",
       "159996    1588.65\n",
       "159997     687.46\n",
       "159998     439.21\n",
       "159999   -1229.34\n",
       "Name: x37, Length: 160000, dtype: float64"
      ]
     },
     "execution_count": 49,
     "metadata": {},
     "output_type": "execute_result"
    }
   ],
   "source": [
    "df['x37'] = df['x37'].str.replace('$', '')\n",
    "df['x37'] = pd.to_numeric(df['x37'])\n",
    "df['x37']"
   ]
  },
  {
   "attachments": {},
   "cell_type": "markdown",
   "metadata": {},
   "source": [
    "Imputing all of the missing data with either mean imputation for numerical or most frequent for category imputation."
   ]
  },
  {
   "cell_type": "code",
   "execution_count": 50,
   "metadata": {},
   "outputs": [],
   "source": [
    "num_cols = [f\"x{i}\" for i in range(50) if i not in [24, 29, 30]]\n",
    "cat_cols = [\"x24\", \"x29\", \"x30\"]\n",
    "#copy the target before doing the transform since it gets dropped\n",
    "y = df['y'].values\n",
    "\n",
    "num_imputer = SimpleImputer(strategy='mean')  \n",
    "cat_imputer = SimpleImputer(strategy='most_frequent')\n",
    "\n",
    "transformer = ColumnTransformer(\n",
    "    transformers=[\n",
    "        ('num_imputer', num_imputer, num_cols),\n",
    "        ('cat_imputer', cat_imputer, cat_cols)\n",
    "    ])\n",
    "\n",
    "df_imputed = pd.DataFrame(transformer.fit_transform(df), columns=num_cols+cat_cols)\n",
    "df_imputed.index = df.index"
   ]
  },
  {
   "cell_type": "code",
   "execution_count": 51,
   "metadata": {},
   "outputs": [
    {
     "name": "stdout",
     "output_type": "stream",
     "text": [
      "x0     0\n",
      "x1     0\n",
      "x2     0\n",
      "x3     0\n",
      "x4     0\n",
      "x5     0\n",
      "x6     0\n",
      "x7     0\n",
      "x8     0\n",
      "x9     0\n",
      "x10    0\n",
      "x11    0\n",
      "x12    0\n",
      "x13    0\n",
      "x14    0\n",
      "x15    0\n",
      "x16    0\n",
      "x17    0\n",
      "x18    0\n",
      "x19    0\n",
      "x20    0\n",
      "x21    0\n",
      "x22    0\n",
      "x23    0\n",
      "x25    0\n",
      "x26    0\n",
      "x27    0\n",
      "x28    0\n",
      "x31    0\n",
      "x32    0\n",
      "x33    0\n",
      "x34    0\n",
      "x35    0\n",
      "x36    0\n",
      "x37    0\n",
      "x38    0\n",
      "x39    0\n",
      "x40    0\n",
      "x41    0\n",
      "x42    0\n",
      "x43    0\n",
      "x44    0\n",
      "x45    0\n",
      "x46    0\n",
      "x47    0\n",
      "x48    0\n",
      "x49    0\n",
      "x24    0\n",
      "x29    0\n",
      "x30    0\n",
      "dtype: int64\n"
     ]
    }
   ],
   "source": [
    "count_na = df_imputed.isna().sum()\n",
    "print(count_na)"
   ]
  },
  {
   "attachments": {},
   "cell_type": "markdown",
   "metadata": {},
   "source": [
    "One hot encoding the 'x24' that appears to be a continent, the x29 that is a month, and the x32 that is a weekday."
   ]
  },
  {
   "cell_type": "code",
   "execution_count": 52,
   "metadata": {},
   "outputs": [
    {
     "data": {
      "text/html": [
       "<div>\n",
       "<style scoped>\n",
       "    .dataframe tbody tr th:only-of-type {\n",
       "        vertical-align: middle;\n",
       "    }\n",
       "\n",
       "    .dataframe tbody tr th {\n",
       "        vertical-align: top;\n",
       "    }\n",
       "\n",
       "    .dataframe thead th {\n",
       "        text-align: right;\n",
       "    }\n",
       "</style>\n",
       "<table border=\"1\" class=\"dataframe\">\n",
       "  <thead>\n",
       "    <tr style=\"text-align: right;\">\n",
       "      <th></th>\n",
       "      <th>x0</th>\n",
       "      <th>x1</th>\n",
       "      <th>x2</th>\n",
       "      <th>x3</th>\n",
       "      <th>x4</th>\n",
       "      <th>x5</th>\n",
       "      <th>x6</th>\n",
       "      <th>x7</th>\n",
       "      <th>x8</th>\n",
       "      <th>x9</th>\n",
       "      <th>...</th>\n",
       "      <th>x43</th>\n",
       "      <th>x44</th>\n",
       "      <th>x45</th>\n",
       "      <th>x46</th>\n",
       "      <th>x47</th>\n",
       "      <th>x48</th>\n",
       "      <th>x49</th>\n",
       "      <th>x24</th>\n",
       "      <th>x29</th>\n",
       "      <th>x30</th>\n",
       "    </tr>\n",
       "  </thead>\n",
       "  <tbody>\n",
       "    <tr>\n",
       "      <th>count</th>\n",
       "      <td>160000.000000</td>\n",
       "      <td>160000.000000</td>\n",
       "      <td>160000.000000</td>\n",
       "      <td>160000.000000</td>\n",
       "      <td>160000.000000</td>\n",
       "      <td>160000.000000</td>\n",
       "      <td>160000.00000</td>\n",
       "      <td>160000.000000</td>\n",
       "      <td>160000.00000</td>\n",
       "      <td>160000.000000</td>\n",
       "      <td>...</td>\n",
       "      <td>160000.000000</td>\n",
       "      <td>160000.00000</td>\n",
       "      <td>160000.000000</td>\n",
       "      <td>160000.000000</td>\n",
       "      <td>160000.000000</td>\n",
       "      <td>160000.000000</td>\n",
       "      <td>160000.000000</td>\n",
       "      <td>160000</td>\n",
       "      <td>160000</td>\n",
       "      <td>160000</td>\n",
       "    </tr>\n",
       "    <tr>\n",
       "      <th>unique</th>\n",
       "      <td>159975.000000</td>\n",
       "      <td>159976.000000</td>\n",
       "      <td>159963.000000</td>\n",
       "      <td>159964.000000</td>\n",
       "      <td>159975.000000</td>\n",
       "      <td>159964.000000</td>\n",
       "      <td>159975.00000</td>\n",
       "      <td>159974.000000</td>\n",
       "      <td>159980.00000</td>\n",
       "      <td>159971.000000</td>\n",
       "      <td>...</td>\n",
       "      <td>159964.000000</td>\n",
       "      <td>159961.00000</td>\n",
       "      <td>159972.000000</td>\n",
       "      <td>159970.000000</td>\n",
       "      <td>159964.000000</td>\n",
       "      <td>159969.000000</td>\n",
       "      <td>159969.000000</td>\n",
       "      <td>3</td>\n",
       "      <td>12</td>\n",
       "      <td>5</td>\n",
       "    </tr>\n",
       "    <tr>\n",
       "      <th>top</th>\n",
       "      <td>-0.001028</td>\n",
       "      <td>0.001358</td>\n",
       "      <td>-1.150145</td>\n",
       "      <td>-0.024637</td>\n",
       "      <td>-0.000549</td>\n",
       "      <td>0.013582</td>\n",
       "      <td>-1.67067</td>\n",
       "      <td>-7.692795</td>\n",
       "      <td>-0.03054</td>\n",
       "      <td>0.005462</td>\n",
       "      <td>...</td>\n",
       "      <td>-0.002091</td>\n",
       "      <td>-0.00625</td>\n",
       "      <td>0.000885</td>\n",
       "      <td>-12.755395</td>\n",
       "      <td>0.028622</td>\n",
       "      <td>-0.000224</td>\n",
       "      <td>-0.674224</td>\n",
       "      <td>asia</td>\n",
       "      <td>July</td>\n",
       "      <td>wednesday</td>\n",
       "    </tr>\n",
       "    <tr>\n",
       "      <th>freq</th>\n",
       "      <td>26.000000</td>\n",
       "      <td>25.000000</td>\n",
       "      <td>38.000000</td>\n",
       "      <td>37.000000</td>\n",
       "      <td>26.000000</td>\n",
       "      <td>37.000000</td>\n",
       "      <td>26.00000</td>\n",
       "      <td>27.000000</td>\n",
       "      <td>21.00000</td>\n",
       "      <td>30.000000</td>\n",
       "      <td>...</td>\n",
       "      <td>37.000000</td>\n",
       "      <td>40.00000</td>\n",
       "      <td>29.000000</td>\n",
       "      <td>31.000000</td>\n",
       "      <td>37.000000</td>\n",
       "      <td>32.000000</td>\n",
       "      <td>32.000000</td>\n",
       "      <td>138993</td>\n",
       "      <td>45599</td>\n",
       "      <td>101565</td>\n",
       "    </tr>\n",
       "  </tbody>\n",
       "</table>\n",
       "<p>4 rows × 50 columns</p>\n",
       "</div>"
      ],
      "text/plain": [
       "                   x0             x1             x2             x3  \\\n",
       "count   160000.000000  160000.000000  160000.000000  160000.000000   \n",
       "unique  159975.000000  159976.000000  159963.000000  159964.000000   \n",
       "top         -0.001028       0.001358      -1.150145      -0.024637   \n",
       "freq        26.000000      25.000000      38.000000      37.000000   \n",
       "\n",
       "                   x4             x5            x6             x7  \\\n",
       "count   160000.000000  160000.000000  160000.00000  160000.000000   \n",
       "unique  159975.000000  159964.000000  159975.00000  159974.000000   \n",
       "top         -0.000549       0.013582      -1.67067      -7.692795   \n",
       "freq        26.000000      37.000000      26.00000      27.000000   \n",
       "\n",
       "                  x8             x9  ...            x43           x44  \\\n",
       "count   160000.00000  160000.000000  ...  160000.000000  160000.00000   \n",
       "unique  159980.00000  159971.000000  ...  159964.000000  159961.00000   \n",
       "top         -0.03054       0.005462  ...      -0.002091      -0.00625   \n",
       "freq        21.00000      30.000000  ...      37.000000      40.00000   \n",
       "\n",
       "                  x45            x46            x47            x48  \\\n",
       "count   160000.000000  160000.000000  160000.000000  160000.000000   \n",
       "unique  159972.000000  159970.000000  159964.000000  159969.000000   \n",
       "top          0.000885     -12.755395       0.028622      -0.000224   \n",
       "freq        29.000000      31.000000      37.000000      32.000000   \n",
       "\n",
       "                  x49     x24     x29        x30  \n",
       "count   160000.000000  160000  160000     160000  \n",
       "unique  159969.000000       3      12          5  \n",
       "top         -0.674224    asia    July  wednesday  \n",
       "freq        32.000000  138993   45599     101565  \n",
       "\n",
       "[4 rows x 50 columns]"
      ]
     },
     "execution_count": 52,
     "metadata": {},
     "output_type": "execute_result"
    }
   ],
   "source": [
    "df_imputed.describe()"
   ]
  },
  {
   "cell_type": "code",
   "execution_count": 53,
   "metadata": {},
   "outputs": [],
   "source": [
    "df = pd.get_dummies(df_imputed, columns=['x24', 'x29', 'x30'])"
   ]
  },
  {
   "attachments": {},
   "cell_type": "markdown",
   "metadata": {},
   "source": [
    "Prep the data for a cross val predict like prediction loop"
   ]
  },
  {
   "cell_type": "code",
   "execution_count": 54,
   "metadata": {},
   "outputs": [
    {
     "data": {
      "text/plain": [
       "x0               object\n",
       "x1               object\n",
       "x2               object\n",
       "x3               object\n",
       "x4               object\n",
       "                  ...  \n",
       "x30_friday        uint8\n",
       "x30_monday        uint8\n",
       "x30_thurday       uint8\n",
       "x30_tuesday       uint8\n",
       "x30_wednesday     uint8\n",
       "Length: 67, dtype: object"
      ]
     },
     "execution_count": 54,
     "metadata": {},
     "output_type": "execute_result"
    }
   ],
   "source": [
    "df.dtypes"
   ]
  },
  {
   "cell_type": "code",
   "execution_count": 55,
   "metadata": {},
   "outputs": [],
   "source": [
    "#split the label values into y and the features into X\n",
    "\n",
    "X = df.values\n",
    "\n",
    "scaler = StandardScaler()\n",
    "X = scaler.fit_transform(X)"
   ]
  },
  {
   "cell_type": "code",
   "execution_count": 56,
   "metadata": {},
   "outputs": [],
   "source": [
    "# Setup some data in a train and val split to perform the search of the best model\n",
    "#will circle back to using kfolds later\n",
    "\n",
    "X_train, X_val, y_train, y_val = train_test_split(X, y, test_size=0.15, random_state=1234)"
   ]
  },
  {
   "cell_type": "code",
   "execution_count": 64,
   "metadata": {},
   "outputs": [
    {
     "data": {
      "text/plain": [
       "<keras.engine.sequential.Sequential at 0x1c722089070>"
      ]
     },
     "execution_count": 64,
     "metadata": {},
     "output_type": "execute_result"
    }
   ],
   "source": [
    "\n",
    "def build_model(hp):\n",
    "    model = keras.Sequential()\n",
    "    model.add(layers.Flatten())\n",
    "    # Tune the number of layers.\n",
    "    for i in range(hp.Int(\"num_layers\", 2, 6)):\n",
    "        model.add(\n",
    "            layers.Dense(\n",
    "                # Tune number of units separately.\n",
    "                units=hp.Int(f\"units_{i}\", min_value=32, max_value=768, step=32),\n",
    "                activation=hp.Choice(f'activation_{i}', values=['relu', 'tanh'],),\n",
    "                kernel_regularizer=keras.regularizers.l2(hp.Float(f'weight_decay_{i}', min_value=0, max_value=1e-2, sampling='linear')))\n",
    "            )\n",
    "        \n",
    "    if hp.Boolean(\"dropout\"):\n",
    "        model.add(layers.Dropout(hp.Float(f'dropout_{i}', min_value=0.005, max_value=0.055, step=0.01)))\n",
    "    model.add(layers.Dense(1, activation=\"sigmoid\"))\n",
    "    learning_rate = hp.Choice(\"learning_rate\", values=[1e-2, 1e-3, 1e-4])\n",
    "    model.compile(\n",
    "        optimizer=keras.optimizers.Adam(learning_rate=learning_rate),\n",
    "        loss=\"binary_crossentropy\",\n",
    "        metrics=[\"accuracy\"],\n",
    "    )\n",
    "    return model\n",
    "\n",
    "build_model(kt.HyperParameters())"
   ]
  },
  {
   "cell_type": "code",
   "execution_count": 65,
   "metadata": {},
   "outputs": [],
   "source": [
    "#build a keras_tuner RandomSearch to tune the training process and optimize the Neural Network\n",
    "# https://www.tensorflow.org/tutorials/keras/keras_tuner\n",
    "tuner = kt.Hyperband(\n",
    "    build_model,\n",
    "    objective='val_accuracy',\n",
    "    max_epochs=50,\n",
    "    factor=3,\n",
    "    hyperband_iterations=5,\n",
    "    seed=1234,\n",
    "    directory='hp_tuning_5',\n",
    "    project_name='CaseStudy7_Run_5',\n",
    "    overwrite=True,\n",
    "    seed=1234\n",
    ")\n",
    "es_callback = tf.keras.callbacks.EarlyStopping(monitor='val_accuracy', patience=3)"
   ]
  },
  {
   "cell_type": "code",
   "execution_count": 66,
   "metadata": {},
   "outputs": [
    {
     "name": "stdout",
     "output_type": "stream",
     "text": [
      "Search space summary\n",
      "Default search space size: 9\n",
      "num_layers (Int)\n",
      "{'default': None, 'conditions': [], 'min_value': 2, 'max_value': 6, 'step': 1, 'sampling': 'linear'}\n",
      "units_0 (Int)\n",
      "{'default': None, 'conditions': [], 'min_value': 32, 'max_value': 768, 'step': 32, 'sampling': 'linear'}\n",
      "activation_0 (Choice)\n",
      "{'default': 'relu', 'conditions': [], 'values': ['relu', 'tanh'], 'ordered': False}\n",
      "weight_decay_0 (Float)\n",
      "{'default': 0.0, 'conditions': [], 'min_value': 0.0, 'max_value': 0.01, 'step': None, 'sampling': 'linear'}\n",
      "units_1 (Int)\n",
      "{'default': None, 'conditions': [], 'min_value': 32, 'max_value': 768, 'step': 32, 'sampling': 'linear'}\n",
      "activation_1 (Choice)\n",
      "{'default': 'relu', 'conditions': [], 'values': ['relu', 'tanh'], 'ordered': False}\n",
      "weight_decay_1 (Float)\n",
      "{'default': 0.0, 'conditions': [], 'min_value': 0.0, 'max_value': 0.01, 'step': None, 'sampling': 'linear'}\n",
      "dropout (Boolean)\n",
      "{'default': False, 'conditions': []}\n",
      "learning_rate (Choice)\n",
      "{'default': 0.01, 'conditions': [], 'values': [0.01, 0.001, 0.0001], 'ordered': True}\n"
     ]
    }
   ],
   "source": [
    "tuner.search_space_summary()"
   ]
  },
  {
   "cell_type": "code",
   "execution_count": 67,
   "metadata": {},
   "outputs": [
    {
     "name": "stdout",
     "output_type": "stream",
     "text": [
      "Trial 450 Complete [00h 03m 39s]\n",
      "val_accuracy: 0.9669166803359985\n",
      "\n",
      "Best val_accuracy So Far: 0.9729999899864197\n",
      "Total elapsed time: 06h 35m 19s\n",
      "INFO:tensorflow:Oracle triggered exit\n"
     ]
    }
   ],
   "source": [
    "#train the DNN with a hyper parameter search\n",
    "tuner.search(X_train, y_train,\n",
    "             epochs=50,\n",
    "             validation_data=(X_val, y_val),\n",
    "             callbacks=[es_callback])\n",
    "\n",
    "#get the best hyperparameters and store them in a var\n",
    "best_hps = tuner.get_best_hyperparameters(num_trials=1)[0]"
   ]
  },
  {
   "attachments": {},
   "cell_type": "markdown",
   "metadata": {},
   "source": [
    "#### Preparing a  K Fold split\n",
    "The best hyperparameters from the Hyperband tuning algorithm will be used to predict all 160,000 predictions, with models training on 143,999 datapoints using a 10 k fold split to where a model will train on that fold's training data, and then predictions made on the test set.  All test sets predictions will be concatenated into a flat array of predictions and scored for accuracy against the true values."
   ]
  },
  {
   "cell_type": "code",
   "execution_count": 68,
   "metadata": {},
   "outputs": [
    {
     "name": "stdout",
     "output_type": "stream",
     "text": [
      "Model: \"sequential_1\"\n",
      "_________________________________________________________________\n",
      " Layer (type)                Output Shape              Param #   \n",
      "=================================================================\n",
      " flatten_1 (Flatten)         (None, 784)               0         \n",
      "                                                                 \n",
      " dense_6 (Dense)             (None, 672)               527520    \n",
      "                                                                 \n",
      " dense_7 (Dense)             (None, 128)               86144     \n",
      "                                                                 \n",
      " dense_8 (Dense)             (None, 384)               49536     \n",
      "                                                                 \n",
      " dense_9 (Dense)             (None, 32)                12320     \n",
      "                                                                 \n",
      " dense_10 (Dense)            (None, 128)               4224      \n",
      "                                                                 \n",
      " dropout (Dropout)           (None, 128)               0         \n",
      "                                                                 \n",
      " dense_11 (Dense)            (None, 1)                 129       \n",
      "                                                                 \n",
      "=================================================================\n",
      "Total params: 679,873\n",
      "Trainable params: 679,873\n",
      "Non-trainable params: 0\n",
      "_________________________________________________________________\n"
     ]
    }
   ],
   "source": [
    "best_model = tuner.hypermodel.build(best_hps)\n",
    "best_model.build(input_shape=(None, 28,28))\n",
    "best_model.summary()"
   ]
  },
  {
   "cell_type": "code",
   "execution_count": 84,
   "metadata": {},
   "outputs": [
    {
     "name": "stdout",
     "output_type": "stream",
     "text": [
      "train: [ 53334  53335  53336 ... 159997 159998 159999]\n",
      "test: [    0     1     2 ... 53331 53332 53333]\n",
      "train: [     0      1      2 ... 159997 159998 159999]\n",
      "test: [ 53334  53335  53336 ... 106664 106665 106666]\n",
      "train: [     0      1      2 ... 106664 106665 106666]\n",
      "test: [106667 106668 106669 ... 159997 159998 159999]\n"
     ]
    }
   ],
   "source": [
    "kf = KFold(n_splits=3)\n",
    "best_model = tuner.hypermodel.build(best_hps)\n",
    "indices = kf.split(X,y)\n",
    "for train_index, test_index in indices:\n",
    "    print(f\"train: {train_index}\")\n",
    "    print(f\"test: {test_index}\")"
   ]
  },
  {
   "cell_type": "code",
   "execution_count": 85,
   "metadata": {},
   "outputs": [],
   "source": [
    "es_callback_final = tf.keras.callbacks.EarlyStopping(monitor='val_accuracy', patience=5)"
   ]
  },
  {
   "cell_type": "code",
   "execution_count": 86,
   "metadata": {},
   "outputs": [
    {
     "name": "stdout",
     "output_type": "stream",
     "text": [
      "Epoch 1/100\n",
      "2834/2834 [==============================] - 8s 3ms/step - loss: 1.1186 - accuracy: 0.8508 - val_loss: 0.6253 - val_accuracy: 0.8936\n",
      "Epoch 2/100\n",
      "2834/2834 [==============================] - 7s 2ms/step - loss: 0.4883 - accuracy: 0.9133 - val_loss: 0.3960 - val_accuracy: 0.9267\n",
      "Epoch 3/100\n",
      "2834/2834 [==============================] - 7s 2ms/step - loss: 0.3463 - accuracy: 0.9357 - val_loss: 0.3118 - val_accuracy: 0.9410\n",
      "Epoch 4/100\n",
      "2834/2834 [==============================] - 7s 2ms/step - loss: 0.2878 - accuracy: 0.9453 - val_loss: 0.2766 - val_accuracy: 0.9461\n",
      "Epoch 5/100\n",
      "2834/2834 [==============================] - 6s 2ms/step - loss: 0.2566 - accuracy: 0.9502 - val_loss: 0.2509 - val_accuracy: 0.9506\n",
      "Epoch 6/100\n",
      "2834/2834 [==============================] - 7s 3ms/step - loss: 0.2374 - accuracy: 0.9533 - val_loss: 0.2343 - val_accuracy: 0.9534\n",
      "Epoch 7/100\n",
      "2834/2834 [==============================] - 8s 3ms/step - loss: 0.2231 - accuracy: 0.9573 - val_loss: 0.2260 - val_accuracy: 0.9539\n",
      "Epoch 8/100\n",
      "2834/2834 [==============================] - 8s 3ms/step - loss: 0.2134 - accuracy: 0.9585 - val_loss: 0.2152 - val_accuracy: 0.9560\n",
      "Epoch 9/100\n",
      "2834/2834 [==============================] - 8s 3ms/step - loss: 0.2057 - accuracy: 0.9605 - val_loss: 0.2068 - val_accuracy: 0.9601\n",
      "Epoch 10/100\n",
      "2834/2834 [==============================] - 8s 3ms/step - loss: 0.1991 - accuracy: 0.9619 - val_loss: 0.1962 - val_accuracy: 0.9630\n",
      "Epoch 11/100\n",
      "2834/2834 [==============================] - 7s 2ms/step - loss: 0.1933 - accuracy: 0.9639 - val_loss: 0.1952 - val_accuracy: 0.9613\n",
      "Epoch 12/100\n",
      "2834/2834 [==============================] - 7s 3ms/step - loss: 0.1888 - accuracy: 0.9649 - val_loss: 0.2045 - val_accuracy: 0.9589\n",
      "Epoch 13/100\n",
      "2834/2834 [==============================] - 6s 2ms/step - loss: 0.1848 - accuracy: 0.9658 - val_loss: 0.1865 - val_accuracy: 0.9661\n",
      "Epoch 14/100\n",
      "2834/2834 [==============================] - 6s 2ms/step - loss: 0.1816 - accuracy: 0.9671 - val_loss: 0.1848 - val_accuracy: 0.9651\n",
      "Epoch 15/100\n",
      "2834/2834 [==============================] - 7s 2ms/step - loss: 0.1795 - accuracy: 0.9671 - val_loss: 0.1813 - val_accuracy: 0.9663\n",
      "Epoch 16/100\n",
      "2834/2834 [==============================] - 7s 3ms/step - loss: 0.1761 - accuracy: 0.9683 - val_loss: 0.1777 - val_accuracy: 0.9679\n",
      "Epoch 17/100\n",
      "2834/2834 [==============================] - 8s 3ms/step - loss: 0.1743 - accuracy: 0.9688 - val_loss: 0.1782 - val_accuracy: 0.9678\n",
      "Epoch 18/100\n",
      "2834/2834 [==============================] - 7s 2ms/step - loss: 0.1720 - accuracy: 0.9698 - val_loss: 0.1738 - val_accuracy: 0.9687\n",
      "Epoch 19/100\n",
      "2834/2834 [==============================] - 8s 3ms/step - loss: 0.1690 - accuracy: 0.9702 - val_loss: 0.1770 - val_accuracy: 0.9653\n",
      "Epoch 20/100\n",
      "2834/2834 [==============================] - 8s 3ms/step - loss: 0.1680 - accuracy: 0.9704 - val_loss: 0.1720 - val_accuracy: 0.9688\n",
      "Epoch 21/100\n",
      "2834/2834 [==============================] - 7s 2ms/step - loss: 0.1663 - accuracy: 0.9704 - val_loss: 0.1688 - val_accuracy: 0.9681\n",
      "Epoch 22/100\n",
      "2834/2834 [==============================] - 8s 3ms/step - loss: 0.1646 - accuracy: 0.9706 - val_loss: 0.1705 - val_accuracy: 0.9688\n",
      "Epoch 23/100\n",
      "2834/2834 [==============================] - 8s 3ms/step - loss: 0.1635 - accuracy: 0.9710 - val_loss: 0.1710 - val_accuracy: 0.9673\n",
      "Epoch 24/100\n",
      "2834/2834 [==============================] - 7s 2ms/step - loss: 0.1613 - accuracy: 0.9715 - val_loss: 0.1636 - val_accuracy: 0.9708\n",
      "Epoch 25/100\n",
      "2834/2834 [==============================] - 7s 2ms/step - loss: 0.1600 - accuracy: 0.9722 - val_loss: 0.1704 - val_accuracy: 0.9664\n",
      "Epoch 26/100\n",
      "2834/2834 [==============================] - 7s 3ms/step - loss: 0.1591 - accuracy: 0.9725 - val_loss: 0.1672 - val_accuracy: 0.9693\n",
      "Epoch 27/100\n",
      "2834/2834 [==============================] - 7s 3ms/step - loss: 0.1580 - accuracy: 0.9719 - val_loss: 0.1613 - val_accuracy: 0.9714\n",
      "Epoch 28/100\n",
      "2834/2834 [==============================] - 7s 2ms/step - loss: 0.1569 - accuracy: 0.9728 - val_loss: 0.1685 - val_accuracy: 0.9657\n",
      "Epoch 29/100\n",
      "2834/2834 [==============================] - 7s 2ms/step - loss: 0.1559 - accuracy: 0.9730 - val_loss: 0.1599 - val_accuracy: 0.9711\n",
      "Epoch 30/100\n",
      "2834/2834 [==============================] - 7s 3ms/step - loss: 0.1548 - accuracy: 0.9730 - val_loss: 0.1593 - val_accuracy: 0.9719\n",
      "Epoch 31/100\n",
      "2834/2834 [==============================] - 8s 3ms/step - loss: 0.1535 - accuracy: 0.9733 - val_loss: 0.1593 - val_accuracy: 0.9704\n",
      "Epoch 32/100\n",
      "2834/2834 [==============================] - 6s 2ms/step - loss: 0.1532 - accuracy: 0.9733 - val_loss: 0.1597 - val_accuracy: 0.9712\n",
      "Epoch 33/100\n",
      "2834/2834 [==============================] - 7s 3ms/step - loss: 0.1525 - accuracy: 0.9739 - val_loss: 0.1588 - val_accuracy: 0.9713\n",
      "Epoch 34/100\n",
      "2834/2834 [==============================] - 7s 3ms/step - loss: 0.1515 - accuracy: 0.9740 - val_loss: 0.1597 - val_accuracy: 0.9704\n",
      "Epoch 35/100\n",
      "2834/2834 [==============================] - 7s 3ms/step - loss: 0.1510 - accuracy: 0.9735 - val_loss: 0.1558 - val_accuracy: 0.9725\n",
      "Epoch 36/100\n",
      "2834/2834 [==============================] - 7s 3ms/step - loss: 0.1503 - accuracy: 0.9737 - val_loss: 0.1527 - val_accuracy: 0.9724\n",
      "Epoch 37/100\n",
      "2834/2834 [==============================] - 8s 3ms/step - loss: 0.1487 - accuracy: 0.9749 - val_loss: 0.1636 - val_accuracy: 0.9692\n",
      "Epoch 38/100\n",
      "2834/2834 [==============================] - 7s 2ms/step - loss: 0.1486 - accuracy: 0.9746 - val_loss: 0.1540 - val_accuracy: 0.9725\n",
      "Epoch 39/100\n",
      "2834/2834 [==============================] - 8s 3ms/step - loss: 0.1479 - accuracy: 0.9744 - val_loss: 0.1533 - val_accuracy: 0.9718\n",
      "Epoch 40/100\n",
      "2834/2834 [==============================] - 6s 2ms/step - loss: 0.1477 - accuracy: 0.9747 - val_loss: 0.1525 - val_accuracy: 0.9722\n",
      "1667/1667 [==============================] - 1s 663us/step\n",
      "Iteration 1\n",
      "Accuracy 0.9705628679641505\n",
      "Precision:  0.9614548146777104\n",
      "Recall:  0.965744829188938\n",
      "F1 Score:  0.9635950470713723\n",
      "Confusion Matrix: \n",
      " [[30986   833]\n",
      " [  737 20778]]\n",
      "Epoch 1/100\n",
      "2834/2834 [==============================] - 8s 3ms/step - loss: 1.0460 - accuracy: 0.8463 - val_loss: 0.5841 - val_accuracy: 0.8923\n",
      "Epoch 2/100\n",
      "2834/2834 [==============================] - 6s 2ms/step - loss: 0.4694 - accuracy: 0.9083 - val_loss: 0.3832 - val_accuracy: 0.9240\n",
      "Epoch 3/100\n",
      "2834/2834 [==============================] - 6s 2ms/step - loss: 0.3445 - accuracy: 0.9317 - val_loss: 0.3081 - val_accuracy: 0.9381\n",
      "Epoch 4/100\n",
      "2834/2834 [==============================] - 7s 3ms/step - loss: 0.2890 - accuracy: 0.9423 - val_loss: 0.2739 - val_accuracy: 0.9444\n",
      "Epoch 5/100\n",
      "2834/2834 [==============================] - 7s 2ms/step - loss: 0.2593 - accuracy: 0.9474 - val_loss: 0.2492 - val_accuracy: 0.9493\n",
      "Epoch 6/100\n",
      "2834/2834 [==============================] - 6s 2ms/step - loss: 0.2391 - accuracy: 0.9528 - val_loss: 0.2374 - val_accuracy: 0.9508\n",
      "Epoch 7/100\n",
      "2834/2834 [==============================] - 7s 2ms/step - loss: 0.2259 - accuracy: 0.9553 - val_loss: 0.2269 - val_accuracy: 0.9539\n",
      "Epoch 8/100\n",
      "2834/2834 [==============================] - 8s 3ms/step - loss: 0.2158 - accuracy: 0.9581 - val_loss: 0.2123 - val_accuracy: 0.9582\n",
      "Epoch 9/100\n",
      "2834/2834 [==============================] - 7s 2ms/step - loss: 0.2072 - accuracy: 0.9599 - val_loss: 0.2078 - val_accuracy: 0.9578\n",
      "Epoch 10/100\n",
      "2834/2834 [==============================] - 6s 2ms/step - loss: 0.2009 - accuracy: 0.9612 - val_loss: 0.2032 - val_accuracy: 0.9609\n",
      "Epoch 11/100\n",
      "2834/2834 [==============================] - 7s 3ms/step - loss: 0.1955 - accuracy: 0.9627 - val_loss: 0.2027 - val_accuracy: 0.9598\n",
      "Epoch 12/100\n",
      "2834/2834 [==============================] - 7s 3ms/step - loss: 0.1905 - accuracy: 0.9647 - val_loss: 0.1999 - val_accuracy: 0.9604\n",
      "Epoch 13/100\n",
      "2834/2834 [==============================] - 7s 3ms/step - loss: 0.1870 - accuracy: 0.9650 - val_loss: 0.1920 - val_accuracy: 0.9629\n",
      "Epoch 14/100\n",
      "2834/2834 [==============================] - 7s 2ms/step - loss: 0.1831 - accuracy: 0.9663 - val_loss: 0.1838 - val_accuracy: 0.9666\n",
      "Epoch 15/100\n",
      "2834/2834 [==============================] - 7s 2ms/step - loss: 0.1798 - accuracy: 0.9673 - val_loss: 0.1890 - val_accuracy: 0.9636\n",
      "Epoch 16/100\n",
      "2834/2834 [==============================] - 7s 2ms/step - loss: 0.1775 - accuracy: 0.9684 - val_loss: 0.1849 - val_accuracy: 0.9636\n",
      "Epoch 17/100\n",
      "2834/2834 [==============================] - 7s 2ms/step - loss: 0.1754 - accuracy: 0.9683 - val_loss: 0.1817 - val_accuracy: 0.9651\n",
      "Epoch 18/100\n",
      "2834/2834 [==============================] - 7s 3ms/step - loss: 0.1720 - accuracy: 0.9696 - val_loss: 0.1793 - val_accuracy: 0.9662\n",
      "Epoch 19/100\n",
      "2834/2834 [==============================] - 8s 3ms/step - loss: 0.1704 - accuracy: 0.9698 - val_loss: 0.1790 - val_accuracy: 0.9660\n",
      "1667/1667 [==============================] - 1s 734us/step\n",
      "Iteration 2\n",
      "Accuracy 0.9695685598034988\n",
      "Precision:  0.9624900239425379\n",
      "Recall:  0.9613617180905937\n",
      "F1 Score:  0.9619255401506087\n",
      "Confusion Matrix: \n",
      " [[31208   799]\n",
      " [  824 20502]]\n",
      "Epoch 1/100\n",
      "2834/2834 [==============================] - 8s 3ms/step - loss: 1.1031 - accuracy: 0.8506 - val_loss: 0.6127 - val_accuracy: 0.8943\n",
      "Epoch 2/100\n",
      "2834/2834 [==============================] - 7s 2ms/step - loss: 0.4807 - accuracy: 0.9142 - val_loss: 0.3927 - val_accuracy: 0.9261\n",
      "Epoch 3/100\n",
      "2834/2834 [==============================] - 8s 3ms/step - loss: 0.3440 - accuracy: 0.9357 - val_loss: 0.3054 - val_accuracy: 0.9458\n",
      "Epoch 4/100\n",
      "2834/2834 [==============================] - 7s 2ms/step - loss: 0.2865 - accuracy: 0.9450 - val_loss: 0.2712 - val_accuracy: 0.9471\n",
      "Epoch 5/100\n",
      "2834/2834 [==============================] - 7s 3ms/step - loss: 0.2540 - accuracy: 0.9522 - val_loss: 0.2446 - val_accuracy: 0.9546\n",
      "Epoch 6/100\n",
      "2834/2834 [==============================] - 7s 3ms/step - loss: 0.2344 - accuracy: 0.9549 - val_loss: 0.2263 - val_accuracy: 0.9553\n",
      "Epoch 7/100\n",
      "2834/2834 [==============================] - 8s 3ms/step - loss: 0.2206 - accuracy: 0.9590 - val_loss: 0.2173 - val_accuracy: 0.9590\n",
      "Epoch 8/100\n",
      "2834/2834 [==============================] - 7s 2ms/step - loss: 0.2103 - accuracy: 0.9608 - val_loss: 0.2141 - val_accuracy: 0.9572\n",
      "Epoch 9/100\n",
      "2834/2834 [==============================] - 8s 3ms/step - loss: 0.2016 - accuracy: 0.9625 - val_loss: 0.1966 - val_accuracy: 0.9639\n",
      "Epoch 10/100\n",
      "2834/2834 [==============================] - 6s 2ms/step - loss: 0.1957 - accuracy: 0.9633 - val_loss: 0.1952 - val_accuracy: 0.9621\n",
      "Epoch 11/100\n",
      "2834/2834 [==============================] - 7s 2ms/step - loss: 0.1899 - accuracy: 0.9652 - val_loss: 0.1933 - val_accuracy: 0.9635\n",
      "Epoch 12/100\n",
      "2834/2834 [==============================] - 8s 3ms/step - loss: 0.1864 - accuracy: 0.9664 - val_loss: 0.1858 - val_accuracy: 0.9643\n",
      "Epoch 13/100\n",
      "2834/2834 [==============================] - 6s 2ms/step - loss: 0.1811 - accuracy: 0.9674 - val_loss: 0.1860 - val_accuracy: 0.9638\n",
      "Epoch 14/100\n",
      "2834/2834 [==============================] - 6s 2ms/step - loss: 0.1792 - accuracy: 0.9671 - val_loss: 0.1778 - val_accuracy: 0.9668\n",
      "Epoch 15/100\n",
      "2834/2834 [==============================] - 6s 2ms/step - loss: 0.1746 - accuracy: 0.9692 - val_loss: 0.1961 - val_accuracy: 0.9579\n",
      "Epoch 16/100\n",
      "2834/2834 [==============================] - 6s 2ms/step - loss: 0.1730 - accuracy: 0.9690 - val_loss: 0.1776 - val_accuracy: 0.9651\n",
      "Epoch 17/100\n",
      "2834/2834 [==============================] - 6s 2ms/step - loss: 0.1705 - accuracy: 0.9693 - val_loss: 0.1694 - val_accuracy: 0.9689\n",
      "Epoch 18/100\n",
      "2834/2834 [==============================] - 6s 2ms/step - loss: 0.1689 - accuracy: 0.9701 - val_loss: 0.1817 - val_accuracy: 0.9633\n",
      "Epoch 19/100\n",
      "2834/2834 [==============================] - 7s 3ms/step - loss: 0.1664 - accuracy: 0.9703 - val_loss: 0.1737 - val_accuracy: 0.9671\n",
      "Epoch 20/100\n",
      "2834/2834 [==============================] - 7s 3ms/step - loss: 0.1649 - accuracy: 0.9712 - val_loss: 0.1653 - val_accuracy: 0.9693\n",
      "Epoch 21/100\n",
      "2834/2834 [==============================] - 7s 2ms/step - loss: 0.1636 - accuracy: 0.9710 - val_loss: 0.1692 - val_accuracy: 0.9676\n",
      "Epoch 22/100\n",
      "2834/2834 [==============================] - 7s 2ms/step - loss: 0.1623 - accuracy: 0.9718 - val_loss: 0.1699 - val_accuracy: 0.9655\n",
      "Epoch 23/100\n",
      "2834/2834 [==============================] - 8s 3ms/step - loss: 0.1606 - accuracy: 0.9723 - val_loss: 0.1673 - val_accuracy: 0.9679\n",
      "Epoch 24/100\n",
      "2834/2834 [==============================] - 7s 3ms/step - loss: 0.1591 - accuracy: 0.9723 - val_loss: 0.1569 - val_accuracy: 0.9731\n",
      "Epoch 25/100\n",
      "2834/2834 [==============================] - 7s 3ms/step - loss: 0.1584 - accuracy: 0.9722 - val_loss: 0.1635 - val_accuracy: 0.9679\n",
      "Epoch 26/100\n",
      "2834/2834 [==============================] - 8s 3ms/step - loss: 0.1564 - accuracy: 0.9726 - val_loss: 0.1608 - val_accuracy: 0.9693\n",
      "Epoch 27/100\n",
      "2834/2834 [==============================] - 7s 3ms/step - loss: 0.1562 - accuracy: 0.9720 - val_loss: 0.1672 - val_accuracy: 0.9652\n",
      "Epoch 28/100\n",
      "2834/2834 [==============================] - 6s 2ms/step - loss: 0.1545 - accuracy: 0.9732 - val_loss: 0.1586 - val_accuracy: 0.9705\n",
      "Epoch 29/100\n",
      "2834/2834 [==============================] - 7s 3ms/step - loss: 0.1550 - accuracy: 0.9731 - val_loss: 0.1597 - val_accuracy: 0.9685\n",
      "1667/1667 [==============================] - 1s 798us/step\n",
      "Iteration 3\n",
      "Accuracy 0.9699998124988282\n",
      "Precision:  0.9593563988095238\n",
      "Recall:  0.9660048698258101\n",
      "F1 Score:  0.9626691553896407\n",
      "Confusion Matrix: \n",
      " [[31103   874]\n",
      " [  726 20630]]\n"
     ]
    }
   ],
   "source": [
    "probabilities = []\n",
    "predictions = []\n",
    "i = 1\n",
    "for train_index, test_index in kf.split(X):\n",
    "    best_model = tuner.hypermodel.build(best_hps) #have to create a new instance of the model to ensure  it doesn't reload anything that it was previously trained on\n",
    "    X_train_val, X_test = X[train_index], X[test_index]\n",
    "    y_train_val, y_test = y[train_index], y[test_index]\n",
    "\n",
    "    X_train, X_val, y_train, y_val = train_test_split(X_train_val, y_train_val, test_size=.15, random_state=1234)\n",
    "    best_model.fit(X_train, y_train, epochs=100, validation_data=(X_val, y_val), callbacks=[es_callback_final])\n",
    "    y_prob = best_model.predict(X_test)\n",
    "    y_pred = (y_prob > 0.5).astype(\"int32\")\n",
    "    probabilities.append(y_prob)\n",
    "    predictions.append(y_pred)\n",
    "    accuracy = accuracy_score(y_test, y_pred)\n",
    "    precision = precision_score(y_test, y_pred)\n",
    "    recall = recall_score(y_test, y_pred)\n",
    "    f1 = f1_score(y_test, y_pred)\n",
    "    confusion = confusion_matrix(y_test, y_pred)\n",
    "    print(f\"Iteration {i}\")\n",
    "    print(f\"Accuracy {accuracy}\")\n",
    "    print(\"Precision: \", precision)\n",
    "    print(\"Recall: \", recall)\n",
    "    print(\"F1 Score: \", f1)\n",
    "    print(\"Confusion Matrix: \\n\", confusion)\n",
    "    i = i+1\n",
    "    "
   ]
  },
  {
   "attachments": {},
   "cell_type": "markdown",
   "metadata": {},
   "source": [
    "##### Final Scoring of the Neural Network Approach"
   ]
  },
  {
   "cell_type": "code",
   "execution_count": 95,
   "metadata": {},
   "outputs": [
    {
     "name": "stdout",
     "output_type": "stream",
     "text": [
      "Accuracy 0.97004375\n",
      "Precision:  0.9610966219572777\n",
      "Recall:  0.9643752823340654\n",
      "F1 Score:  0.9627331607224776\n",
      "Confusion Matrix: \n",
      " [[93297  2506]\n",
      " [ 2287 61910]]\n",
      "Final Cost: $ 604,600.00\n"
     ]
    }
   ],
   "source": [
    "full_predictions = np.concatenate(predictions)\n",
    "accuracy = accuracy_score(y, full_predictions)\n",
    "precision = precision_score(y, full_predictions)\n",
    "recall = recall_score(y, full_predictions)\n",
    "f1 = f1_score(y, full_predictions)\n",
    "confusion = confusion_matrix(y, full_predictions)\n",
    "print(f\"Accuracy {accuracy}\")\n",
    "print(\"Precision: \", precision)\n",
    "print(\"Recall: \", recall)\n",
    "print(\"F1 Score: \", f1)\n",
    "print(\"Confusion Matrix: \\n\", confusion)\n",
    "cost = (confusion[0,1] * 150) + (confusion[1,0]*100) \n",
    "print(f\"Final Cost: $ {'{:,.2f}'.format(cost)}\")"
   ]
  },
  {
   "attachments": {},
   "cell_type": "markdown",
   "metadata": {},
   "source": [
    "Adjusting for the higher cost of a FN"
   ]
  },
  {
   "cell_type": "code",
   "execution_count": 97,
   "metadata": {},
   "outputs": [
    {
     "name": "stdout",
     "output_type": "stream",
     "text": [
      "Accuracy 0.9676125\n",
      "Recall:  0.9406670093618081\n",
      "Confusion Matrix: \n",
      " [[94430  1373]\n",
      " [ 3809 60388]]\n",
      "Final Cost at 0.7: $ 586,850.00\n",
      "Accuracy 0.96799375\n",
      "Recall:  0.9425518326401545\n",
      "Confusion Matrix: \n",
      " [[94370  1433]\n",
      " [ 3688 60509]]\n",
      "Final Cost at 0.69: $ 583,750.00\n",
      "Accuracy 0.96839375\n",
      "Recall:  0.9442653083477421\n",
      "Confusion Matrix: \n",
      " [[94324  1479]\n",
      " [ 3578 60619]]\n",
      "Final Cost at 0.6799999999999999: $ 579,650.00\n",
      "Accuracy 0.96860625\n",
      "Recall:  0.9457451282770223\n",
      "Confusion Matrix: \n",
      " [[94263  1540]\n",
      " [ 3483 60714]]\n",
      "Final Cost at 0.6699999999999999: $ 579,300.00\n",
      "Accuracy 0.9687625\n",
      "Recall:  0.9470536006355437\n",
      "Confusion Matrix: \n",
      " [[94204  1599]\n",
      " [ 3399 60798]]\n",
      "Final Cost at 0.6599999999999999: $ 579,750.00\n",
      "Accuracy 0.968975\n",
      "Recall:  0.9483153418384037\n",
      "Confusion Matrix: \n",
      " [[94157  1646]\n",
      " [ 3318 60879]]\n",
      "Final Cost at 0.6499999999999999: $ 578,700.00\n",
      "Accuracy 0.96925625\n",
      "Recall:  0.9498263158714582\n",
      "Confusion Matrix: \n",
      " [[94105  1698]\n",
      " [ 3221 60976]]\n",
      "Final Cost at 0.6399999999999999: $ 576,800.00\n",
      "Accuracy 0.96946875\n",
      "Recall:  0.9510257488667695\n",
      "Confusion Matrix: \n",
      " [[94062  1741]\n",
      " [ 3144 61053]]\n",
      "Final Cost at 0.6299999999999999: $ 575,550.00\n",
      "Accuracy 0.96960625\n",
      "Recall:  0.9520849883950964\n",
      "Confusion Matrix: \n",
      " [[94016  1787]\n",
      " [ 3076 61121]]\n",
      "Final Cost at 0.6199999999999999: $ 575,650.00\n",
      "Accuracy 0.9697375\n",
      "Recall:  0.9532532672866333\n",
      "Confusion Matrix: \n",
      " [[93962  1841]\n",
      " [ 3001 61196]]\n",
      "Final Cost at 0.6099999999999999: $ 576,250.00\n",
      "Accuracy 0.96983125\n",
      "Recall:  0.9543280838668473\n",
      "Confusion Matrix: \n",
      " [[93908  1895]\n",
      " [ 2932 61265]]\n",
      "Final Cost at 0.5999999999999999: $ 577,450.00\n",
      "Accuracy 0.96988125\n",
      "Recall:  0.955371746343287\n",
      "Confusion Matrix: \n",
      " [[93849  1954]\n",
      " [ 2865 61332]]\n",
      "Final Cost at 0.5899999999999999: $ 579,600.00\n",
      "Accuracy 0.969875\n",
      "Recall:  0.9564154088197268\n",
      "Confusion Matrix: \n",
      " [[93781  2022]\n",
      " [ 2798 61399]]\n",
      "Final Cost at 0.5799999999999998: $ 583,100.00\n",
      "Accuracy 0.96991875\n",
      "Recall:  0.9574279171923922\n",
      "Confusion Matrix: \n",
      " [[93723  2080]\n",
      " [ 2733 61464]]\n",
      "Final Cost at 0.5699999999999998: $ 585,300.00\n",
      "Accuracy 0.97000625\n",
      "Recall:  0.9585183108244933\n",
      "Confusion Matrix: \n",
      " [[93667  2136]\n",
      " [ 2663 61534]]\n",
      "Final Cost at 0.5599999999999998: $ 586,700.00\n",
      "Accuracy 0.97015625\n",
      "Recall:  0.959842360234902\n",
      "Confusion Matrix: \n",
      " [[93606  2197]\n",
      " [ 2578 61619]]\n",
      "Final Cost at 0.5499999999999998: $ 587,350.00\n",
      "Accuracy 0.970275\n",
      "Recall:  0.9609639079707775\n",
      "Confusion Matrix: \n",
      " [[93553  2250]\n",
      " [ 2506 61691]]\n",
      "Final Cost at 0.5399999999999998: $ 588,100.00\n",
      "Accuracy 0.97025625\n",
      "Recall:  0.961898531084007\n",
      "Confusion Matrix: \n",
      " [[93490  2313]\n",
      " [ 2446 61751]]\n",
      "Final Cost at 0.5299999999999998: $ 591,550.00\n",
      "Accuracy 0.97015625\n",
      "Recall:  0.9627396918859137\n",
      "Confusion Matrix: \n",
      " [[93420  2383]\n",
      " [ 2392 61805]]\n",
      "Final Cost at 0.5199999999999998: $ 596,650.00\n",
      "Accuracy 0.97010625\n",
      "Recall:  0.9635496985840459\n",
      "Confusion Matrix: \n",
      " [[93360  2443]\n",
      " [ 2340 61857]]\n",
      "Final Cost at 0.5099999999999998: $ 600,450.00\n",
      "Accuracy 0.97004375\n",
      "Recall:  0.9643752823340654\n",
      "Confusion Matrix: \n",
      " [[93297  2506]\n",
      " [ 2287 61910]]\n",
      "Final Cost at 0.4999999999999998: $ 604,600.00\n",
      "Accuracy 0.96994375\n",
      "Recall:  0.9651229808246491\n",
      "Confusion Matrix: \n",
      " [[93233  2570]\n",
      " [ 2239 61958]]\n",
      "Final Cost at 0.48999999999999977: $ 609,400.00\n",
      "Accuracy 0.96975625\n",
      "Recall:  0.9659174104708943\n",
      "Confusion Matrix: \n",
      " [[93152  2651]\n",
      " [ 2188 62009]]\n",
      "Final Cost at 0.47999999999999976: $ 616,450.00\n",
      "Accuracy 0.969625\n",
      "Recall:  0.9668520335841239\n",
      "Confusion Matrix: \n",
      " [[93071  2732]\n",
      " [ 2128 62069]]\n",
      "Final Cost at 0.46999999999999975: $ 622,600.00\n",
      "Accuracy 0.96930625\n",
      "Recall:  0.9674595386077232\n",
      "Confusion Matrix: \n",
      " [[92981  2822]\n",
      " [ 2089 62108]]\n",
      "Final Cost at 0.45999999999999974: $ 632,200.00\n",
      "Accuracy 0.96913125\n",
      "Recall:  0.968222814150194\n",
      "Confusion Matrix: \n",
      " [[92904  2899]\n",
      " [ 2040 62157]]\n",
      "Final Cost at 0.44999999999999973: $ 638,850.00\n",
      "Accuracy 0.96895\n",
      "Recall:  0.9690016667445519\n",
      "Confusion Matrix: \n",
      " [[92825  2978]\n",
      " [ 1990 62207]]\n",
      "Final Cost at 0.4399999999999997: $ 645,700.00\n",
      "Accuracy 0.96876875\n",
      "Recall:  0.9699674439615559\n",
      "Confusion Matrix: \n",
      " [[92734  3069]\n",
      " [ 1928 62269]]\n",
      "Final Cost at 0.4299999999999997: $ 653,150.00\n",
      "Accuracy 0.9685625\n",
      "Recall:  0.9708086047634624\n",
      "Confusion Matrix: \n",
      " [[92647  3156]\n",
      " [ 1874 62323]]\n",
      "Final Cost at 0.4199999999999997: $ 660,800.00\n",
      "Accuracy 0.96834375\n",
      "Recall:  0.9716030344097076\n",
      "Confusion Matrix: \n",
      " [[92561  3242]\n",
      " [ 1823 62374]]\n",
      "Final Cost at 0.4099999999999997: $ 668,600.00\n",
      "Accuracy 0.96805625\n",
      "Recall:  0.972226116485194\n",
      "Confusion Matrix: \n",
      " [[92475  3328]\n",
      " [ 1783 62414]]\n",
      "Final Cost at 0.3999999999999997: $ 677,500.00\n",
      "Accuracy 0.9677375\n",
      "Recall:  0.9728647756125676\n",
      "Confusion Matrix: \n",
      " [[92383  3420]\n",
      " [ 1742 62455]]\n",
      "Final Cost at 0.3899999999999997: $ 687,200.00\n",
      "Accuracy 0.9675125\n",
      "Recall:  0.9735657429474898\n",
      "Confusion Matrix: \n",
      " [[92302  3501]\n",
      " [ 1697 62500]]\n",
      "Final Cost at 0.37999999999999967: $ 694,850.00\n",
      "Accuracy 0.9671875\n",
      "Recall:  0.9742822873342991\n",
      "Confusion Matrix: \n",
      " [[92204  3599]\n",
      " [ 1651 62546]]\n",
      "Final Cost at 0.36999999999999966: $ 704,950.00\n",
      "Accuracy 0.966725\n",
      "Recall:  0.9749209464616727\n",
      "Confusion Matrix: \n",
      " [[92089  3714]\n",
      " [ 1610 62587]]\n",
      "Final Cost at 0.35999999999999965: $ 718,100.00\n",
      "Accuracy 0.9662875\n",
      "Recall:  0.9756842220041435\n",
      "Confusion Matrix: \n",
      " [[91970  3833]\n",
      " [ 1561 62636]]\n",
      "Final Cost at 0.34999999999999964: $ 731,050.00\n",
      "Accuracy 0.96586875\n",
      "Recall:  0.9764474975466143\n",
      "Confusion Matrix: \n",
      " [[91854  3949]\n",
      " [ 1512 62685]]\n",
      "Final Cost at 0.33999999999999964: $ 743,550.00\n",
      "Accuracy 0.96526875\n",
      "Recall:  0.9770550025702136\n",
      "Confusion Matrix: \n",
      " [[91719  4084]\n",
      " [ 1473 62724]]\n",
      "Final Cost at 0.3299999999999996: $ 759,900.00\n",
      "Accuracy 0.9647125\n",
      "Recall:  0.9776936616975871\n",
      "Confusion Matrix: \n",
      " [[91589  4214]\n",
      " [ 1432 62765]]\n",
      "Final Cost at 0.3199999999999996: $ 775,300.00\n",
      "Accuracy 0.96426875\n",
      "Recall:  0.9784413601881707\n",
      "Confusion Matrix: \n",
      " [[91470  4333]\n",
      " [ 1384 62813]]\n",
      "Final Cost at 0.3099999999999996: $ 788,350.00\n",
      "Accuracy 0.96378125\n",
      "Recall:  0.9791267504712058\n",
      "Confusion Matrix: \n",
      " [[91348  4455]\n",
      " [ 1340 62857]]\n",
      "Final Cost at 0.2999999999999996: $ 802,250.00\n",
      "Accuracy 0.96326875\n",
      "Recall:  0.9798432948580151\n",
      "Confusion Matrix: \n",
      " [[91220  4583]\n",
      " [ 1294 62903]]\n",
      "Final Cost at 0.2899999999999996: $ 816,850.00\n",
      "Accuracy 0.96260625\n",
      "Recall:  0.9804040687259529\n",
      "Confusion Matrix: \n",
      " [[91078  4725]\n",
      " [ 1258 62939]]\n",
      "Final Cost at 0.2799999999999996: $ 834,550.00\n",
      "Accuracy 0.9619\n",
      "Recall:  0.9809648425938907\n",
      "Confusion Matrix: \n",
      " [[90929  4874]\n",
      " [ 1222 62975]]\n",
      "Final Cost at 0.2699999999999996: $ 853,300.00\n",
      "Accuracy 0.9610375\n",
      "Recall:  0.9814010000467311\n",
      "Confusion Matrix: \n",
      " [[90763  5040]\n",
      " [ 1194 63003]]\n",
      "Final Cost at 0.25999999999999956: $ 875,400.00\n",
      "Accuracy 0.96021875\n",
      "Recall:  0.9819150427590074\n",
      "Confusion Matrix: \n",
      " [[90599  5204]\n",
      " [ 1161 63036]]\n",
      "Final Cost at 0.24999999999999956: $ 896,700.00\n",
      "Accuracy 0.95940625\n",
      "Recall:  0.9825381248344939\n",
      "Confusion Matrix: \n",
      " [[90429  5374]\n",
      " [ 1121 63076]]\n",
      "Final Cost at 0.23999999999999955: $ 918,200.00\n",
      "Accuracy 0.95825\n",
      "Recall:  0.9830833216505445\n",
      "Confusion Matrix: \n",
      " [[90209  5594]\n",
      " [ 1086 63111]]\n",
      "Final Cost at 0.22999999999999954: $ 947,700.00\n",
      "Accuracy 0.9571625\n",
      "Recall:  0.9836129414147079\n",
      "Confusion Matrix: \n",
      " [[90001  5802]\n",
      " [ 1052 63145]]\n",
      "Final Cost at 0.21999999999999953: $ 975,500.00\n",
      "Accuracy 0.956075\n",
      "Recall:  0.9842204464383071\n",
      "Confusion Matrix: \n",
      " [[89788  6015]\n",
      " [ 1013 63184]]\n",
      "Final Cost at 0.20999999999999952: $ 1,003,550.00\n",
      "The minimum cost is 575550 at threshold 0.6299999999999999.\n",
      "Corresponding metrics: Accuracy: 0.96946875, Precision: 0.9722744211230372, Recall: 0.9510257488667695, F1 Score: 0.9615327070422314\n"
     ]
    }
   ],
   "source": [
    "costs = []\n",
    "for p in np.arange(.70, .2, -.01):  \n",
    "    full_probs = np.concatenate(probabilities)\n",
    "    full_predictions = (full_probs > p).astype(\"int32\")\n",
    "    accuracy = accuracy_score(y, full_predictions)\n",
    "    precision = precision_score(y, full_predictions)\n",
    "    recall = recall_score(y, full_predictions)\n",
    "    f1 = f1_score(y, full_predictions)\n",
    "    confusion = confusion_matrix(y, full_predictions)\n",
    "    print(f\"Accuracy {accuracy}\")\n",
    "    #print(\"Precision: \", precision)\n",
    "    print(\"Recall: \", recall)\n",
    "    #print(\"F1 Score: \", f1)\n",
    "    print(\"Confusion Matrix: \\n\", confusion)\n",
    "    cost = (confusion[0,1] * 150) + (confusion[1,0]*100)\n",
    "    metrics = {\n",
    "        'p': p,\n",
    "        'cost': cost,\n",
    "        'accuracy': accuracy,\n",
    "        'precision': precision,\n",
    "        'recall': recall,\n",
    "        'f1': f1,\n",
    "        'confusion': confusion\n",
    "    }\n",
    "    costs.append(metrics)  # append the metrics dictionary\n",
    "    print(f\"Final Cost at {p}: $ {'{:,.2f}'.format(cost)}\")\n",
    "\n",
    "# Sort costs list by 'cost' key and get the dictionary with the minimum cost.\n",
    "min_cost = min(costs, key=lambda x: x['cost'])\n",
    "\n",
    "print(f\"The minimum cost is {min_cost['cost']} at threshold {min_cost['p']}.\")\n",
    "print(f\"Corresponding metrics: Accuracy: {min_cost['accuracy']}, Precision: {min_cost['precision']}, Recall: {min_cost['recall']}, F1 Score: {min_cost['f1']}\")"
   ]
  },
  {
   "cell_type": "code",
   "execution_count": 96,
   "metadata": {},
   "outputs": [
    {
     "data": {
      "application/vnd.plotly.v1+json": {
       "config": {
        "plotlyServerURL": "https://plot.ly"
       },
       "data": [
        {
         "coloraxis": "coloraxis",
         "hovertemplate": "Predicted Values: %{x}<br>Actual Values: %{y}<br>Count: %{z}<extra></extra>",
         "name": "0",
         "type": "heatmap",
         "x": [
          "Predicted Positive",
          "Predicted Negative"
         ],
         "xaxis": "x",
         "y": [
          "Actual Positive",
          "Actual Negative"
         ],
         "yaxis": "y",
         "z": [
          [
           94062,
           3076
          ],
          [
           1787,
           61121
          ]
         ]
        }
       ],
       "layout": {
        "annotations": [
         {
          "font": {
           "color": "black",
           "size": 16
          },
          "opacity": 0.7,
          "showarrow": false,
          "text": "94062",
          "x": 0,
          "y": 0
         },
         {
          "font": {
           "color": "black",
           "size": 16
          },
          "opacity": 0.7,
          "showarrow": false,
          "text": "3076",
          "x": 1,
          "y": 0
         },
         {
          "font": {
           "color": "black",
           "size": 16
          },
          "opacity": 0.7,
          "showarrow": false,
          "text": "1787",
          "x": 0,
          "y": 1
         },
         {
          "font": {
           "color": "black",
           "size": 16
          },
          "opacity": 0.7,
          "showarrow": false,
          "text": "61121",
          "x": 1,
          "y": 1
         }
        ],
        "coloraxis": {
         "colorbar": {
          "title": {
           "text": "Count"
          }
         },
         "colorscale": [
          [
           0,
           "rgb(247,251,255)"
          ],
          [
           0.125,
           "rgb(222,235,247)"
          ],
          [
           0.25,
           "rgb(198,219,239)"
          ],
          [
           0.375,
           "rgb(158,202,225)"
          ],
          [
           0.5,
           "rgb(107,174,214)"
          ],
          [
           0.625,
           "rgb(66,146,198)"
          ],
          [
           0.75,
           "rgb(33,113,181)"
          ],
          [
           0.875,
           "rgb(8,81,156)"
          ],
          [
           1,
           "rgb(8,48,107)"
          ]
         ]
        },
        "margin": {
         "t": 60
        },
        "template": {
         "data": {
          "bar": [
           {
            "error_x": {
             "color": "#2a3f5f"
            },
            "error_y": {
             "color": "#2a3f5f"
            },
            "marker": {
             "line": {
              "color": "#E5ECF6",
              "width": 0.5
             },
             "pattern": {
              "fillmode": "overlay",
              "size": 10,
              "solidity": 0.2
             }
            },
            "type": "bar"
           }
          ],
          "barpolar": [
           {
            "marker": {
             "line": {
              "color": "#E5ECF6",
              "width": 0.5
             },
             "pattern": {
              "fillmode": "overlay",
              "size": 10,
              "solidity": 0.2
             }
            },
            "type": "barpolar"
           }
          ],
          "carpet": [
           {
            "aaxis": {
             "endlinecolor": "#2a3f5f",
             "gridcolor": "white",
             "linecolor": "white",
             "minorgridcolor": "white",
             "startlinecolor": "#2a3f5f"
            },
            "baxis": {
             "endlinecolor": "#2a3f5f",
             "gridcolor": "white",
             "linecolor": "white",
             "minorgridcolor": "white",
             "startlinecolor": "#2a3f5f"
            },
            "type": "carpet"
           }
          ],
          "choropleth": [
           {
            "colorbar": {
             "outlinewidth": 0,
             "ticks": ""
            },
            "type": "choropleth"
           }
          ],
          "contour": [
           {
            "colorbar": {
             "outlinewidth": 0,
             "ticks": ""
            },
            "colorscale": [
             [
              0,
              "#0d0887"
             ],
             [
              0.1111111111111111,
              "#46039f"
             ],
             [
              0.2222222222222222,
              "#7201a8"
             ],
             [
              0.3333333333333333,
              "#9c179e"
             ],
             [
              0.4444444444444444,
              "#bd3786"
             ],
             [
              0.5555555555555556,
              "#d8576b"
             ],
             [
              0.6666666666666666,
              "#ed7953"
             ],
             [
              0.7777777777777778,
              "#fb9f3a"
             ],
             [
              0.8888888888888888,
              "#fdca26"
             ],
             [
              1,
              "#f0f921"
             ]
            ],
            "type": "contour"
           }
          ],
          "contourcarpet": [
           {
            "colorbar": {
             "outlinewidth": 0,
             "ticks": ""
            },
            "type": "contourcarpet"
           }
          ],
          "heatmap": [
           {
            "colorbar": {
             "outlinewidth": 0,
             "ticks": ""
            },
            "colorscale": [
             [
              0,
              "#0d0887"
             ],
             [
              0.1111111111111111,
              "#46039f"
             ],
             [
              0.2222222222222222,
              "#7201a8"
             ],
             [
              0.3333333333333333,
              "#9c179e"
             ],
             [
              0.4444444444444444,
              "#bd3786"
             ],
             [
              0.5555555555555556,
              "#d8576b"
             ],
             [
              0.6666666666666666,
              "#ed7953"
             ],
             [
              0.7777777777777778,
              "#fb9f3a"
             ],
             [
              0.8888888888888888,
              "#fdca26"
             ],
             [
              1,
              "#f0f921"
             ]
            ],
            "type": "heatmap"
           }
          ],
          "heatmapgl": [
           {
            "colorbar": {
             "outlinewidth": 0,
             "ticks": ""
            },
            "colorscale": [
             [
              0,
              "#0d0887"
             ],
             [
              0.1111111111111111,
              "#46039f"
             ],
             [
              0.2222222222222222,
              "#7201a8"
             ],
             [
              0.3333333333333333,
              "#9c179e"
             ],
             [
              0.4444444444444444,
              "#bd3786"
             ],
             [
              0.5555555555555556,
              "#d8576b"
             ],
             [
              0.6666666666666666,
              "#ed7953"
             ],
             [
              0.7777777777777778,
              "#fb9f3a"
             ],
             [
              0.8888888888888888,
              "#fdca26"
             ],
             [
              1,
              "#f0f921"
             ]
            ],
            "type": "heatmapgl"
           }
          ],
          "histogram": [
           {
            "marker": {
             "pattern": {
              "fillmode": "overlay",
              "size": 10,
              "solidity": 0.2
             }
            },
            "type": "histogram"
           }
          ],
          "histogram2d": [
           {
            "colorbar": {
             "outlinewidth": 0,
             "ticks": ""
            },
            "colorscale": [
             [
              0,
              "#0d0887"
             ],
             [
              0.1111111111111111,
              "#46039f"
             ],
             [
              0.2222222222222222,
              "#7201a8"
             ],
             [
              0.3333333333333333,
              "#9c179e"
             ],
             [
              0.4444444444444444,
              "#bd3786"
             ],
             [
              0.5555555555555556,
              "#d8576b"
             ],
             [
              0.6666666666666666,
              "#ed7953"
             ],
             [
              0.7777777777777778,
              "#fb9f3a"
             ],
             [
              0.8888888888888888,
              "#fdca26"
             ],
             [
              1,
              "#f0f921"
             ]
            ],
            "type": "histogram2d"
           }
          ],
          "histogram2dcontour": [
           {
            "colorbar": {
             "outlinewidth": 0,
             "ticks": ""
            },
            "colorscale": [
             [
              0,
              "#0d0887"
             ],
             [
              0.1111111111111111,
              "#46039f"
             ],
             [
              0.2222222222222222,
              "#7201a8"
             ],
             [
              0.3333333333333333,
              "#9c179e"
             ],
             [
              0.4444444444444444,
              "#bd3786"
             ],
             [
              0.5555555555555556,
              "#d8576b"
             ],
             [
              0.6666666666666666,
              "#ed7953"
             ],
             [
              0.7777777777777778,
              "#fb9f3a"
             ],
             [
              0.8888888888888888,
              "#fdca26"
             ],
             [
              1,
              "#f0f921"
             ]
            ],
            "type": "histogram2dcontour"
           }
          ],
          "mesh3d": [
           {
            "colorbar": {
             "outlinewidth": 0,
             "ticks": ""
            },
            "type": "mesh3d"
           }
          ],
          "parcoords": [
           {
            "line": {
             "colorbar": {
              "outlinewidth": 0,
              "ticks": ""
             }
            },
            "type": "parcoords"
           }
          ],
          "pie": [
           {
            "automargin": true,
            "type": "pie"
           }
          ],
          "scatter": [
           {
            "fillpattern": {
             "fillmode": "overlay",
             "size": 10,
             "solidity": 0.2
            },
            "type": "scatter"
           }
          ],
          "scatter3d": [
           {
            "line": {
             "colorbar": {
              "outlinewidth": 0,
              "ticks": ""
             }
            },
            "marker": {
             "colorbar": {
              "outlinewidth": 0,
              "ticks": ""
             }
            },
            "type": "scatter3d"
           }
          ],
          "scattercarpet": [
           {
            "marker": {
             "colorbar": {
              "outlinewidth": 0,
              "ticks": ""
             }
            },
            "type": "scattercarpet"
           }
          ],
          "scattergeo": [
           {
            "marker": {
             "colorbar": {
              "outlinewidth": 0,
              "ticks": ""
             }
            },
            "type": "scattergeo"
           }
          ],
          "scattergl": [
           {
            "marker": {
             "colorbar": {
              "outlinewidth": 0,
              "ticks": ""
             }
            },
            "type": "scattergl"
           }
          ],
          "scattermapbox": [
           {
            "marker": {
             "colorbar": {
              "outlinewidth": 0,
              "ticks": ""
             }
            },
            "type": "scattermapbox"
           }
          ],
          "scatterpolar": [
           {
            "marker": {
             "colorbar": {
              "outlinewidth": 0,
              "ticks": ""
             }
            },
            "type": "scatterpolar"
           }
          ],
          "scatterpolargl": [
           {
            "marker": {
             "colorbar": {
              "outlinewidth": 0,
              "ticks": ""
             }
            },
            "type": "scatterpolargl"
           }
          ],
          "scatterternary": [
           {
            "marker": {
             "colorbar": {
              "outlinewidth": 0,
              "ticks": ""
             }
            },
            "type": "scatterternary"
           }
          ],
          "surface": [
           {
            "colorbar": {
             "outlinewidth": 0,
             "ticks": ""
            },
            "colorscale": [
             [
              0,
              "#0d0887"
             ],
             [
              0.1111111111111111,
              "#46039f"
             ],
             [
              0.2222222222222222,
              "#7201a8"
             ],
             [
              0.3333333333333333,
              "#9c179e"
             ],
             [
              0.4444444444444444,
              "#bd3786"
             ],
             [
              0.5555555555555556,
              "#d8576b"
             ],
             [
              0.6666666666666666,
              "#ed7953"
             ],
             [
              0.7777777777777778,
              "#fb9f3a"
             ],
             [
              0.8888888888888888,
              "#fdca26"
             ],
             [
              1,
              "#f0f921"
             ]
            ],
            "type": "surface"
           }
          ],
          "table": [
           {
            "cells": {
             "fill": {
              "color": "#EBF0F8"
             },
             "line": {
              "color": "white"
             }
            },
            "header": {
             "fill": {
              "color": "#C8D4E3"
             },
             "line": {
              "color": "white"
             }
            },
            "type": "table"
           }
          ]
         },
         "layout": {
          "annotationdefaults": {
           "arrowcolor": "#2a3f5f",
           "arrowhead": 0,
           "arrowwidth": 1
          },
          "autotypenumbers": "strict",
          "coloraxis": {
           "colorbar": {
            "outlinewidth": 0,
            "ticks": ""
           }
          },
          "colorscale": {
           "diverging": [
            [
             0,
             "#8e0152"
            ],
            [
             0.1,
             "#c51b7d"
            ],
            [
             0.2,
             "#de77ae"
            ],
            [
             0.3,
             "#f1b6da"
            ],
            [
             0.4,
             "#fde0ef"
            ],
            [
             0.5,
             "#f7f7f7"
            ],
            [
             0.6,
             "#e6f5d0"
            ],
            [
             0.7,
             "#b8e186"
            ],
            [
             0.8,
             "#7fbc41"
            ],
            [
             0.9,
             "#4d9221"
            ],
            [
             1,
             "#276419"
            ]
           ],
           "sequential": [
            [
             0,
             "#0d0887"
            ],
            [
             0.1111111111111111,
             "#46039f"
            ],
            [
             0.2222222222222222,
             "#7201a8"
            ],
            [
             0.3333333333333333,
             "#9c179e"
            ],
            [
             0.4444444444444444,
             "#bd3786"
            ],
            [
             0.5555555555555556,
             "#d8576b"
            ],
            [
             0.6666666666666666,
             "#ed7953"
            ],
            [
             0.7777777777777778,
             "#fb9f3a"
            ],
            [
             0.8888888888888888,
             "#fdca26"
            ],
            [
             1,
             "#f0f921"
            ]
           ],
           "sequentialminus": [
            [
             0,
             "#0d0887"
            ],
            [
             0.1111111111111111,
             "#46039f"
            ],
            [
             0.2222222222222222,
             "#7201a8"
            ],
            [
             0.3333333333333333,
             "#9c179e"
            ],
            [
             0.4444444444444444,
             "#bd3786"
            ],
            [
             0.5555555555555556,
             "#d8576b"
            ],
            [
             0.6666666666666666,
             "#ed7953"
            ],
            [
             0.7777777777777778,
             "#fb9f3a"
            ],
            [
             0.8888888888888888,
             "#fdca26"
            ],
            [
             1,
             "#f0f921"
            ]
           ]
          },
          "colorway": [
           "#636efa",
           "#EF553B",
           "#00cc96",
           "#ab63fa",
           "#FFA15A",
           "#19d3f3",
           "#FF6692",
           "#B6E880",
           "#FF97FF",
           "#FECB52"
          ],
          "font": {
           "color": "#2a3f5f"
          },
          "geo": {
           "bgcolor": "white",
           "lakecolor": "white",
           "landcolor": "#E5ECF6",
           "showlakes": true,
           "showland": true,
           "subunitcolor": "white"
          },
          "hoverlabel": {
           "align": "left"
          },
          "hovermode": "closest",
          "mapbox": {
           "style": "light"
          },
          "paper_bgcolor": "white",
          "plot_bgcolor": "#E5ECF6",
          "polar": {
           "angularaxis": {
            "gridcolor": "white",
            "linecolor": "white",
            "ticks": ""
           },
           "bgcolor": "#E5ECF6",
           "radialaxis": {
            "gridcolor": "white",
            "linecolor": "white",
            "ticks": ""
           }
          },
          "scene": {
           "xaxis": {
            "backgroundcolor": "#E5ECF6",
            "gridcolor": "white",
            "gridwidth": 2,
            "linecolor": "white",
            "showbackground": true,
            "ticks": "",
            "zerolinecolor": "white"
           },
           "yaxis": {
            "backgroundcolor": "#E5ECF6",
            "gridcolor": "white",
            "gridwidth": 2,
            "linecolor": "white",
            "showbackground": true,
            "ticks": "",
            "zerolinecolor": "white"
           },
           "zaxis": {
            "backgroundcolor": "#E5ECF6",
            "gridcolor": "white",
            "gridwidth": 2,
            "linecolor": "white",
            "showbackground": true,
            "ticks": "",
            "zerolinecolor": "white"
           }
          },
          "shapedefaults": {
           "line": {
            "color": "#2a3f5f"
           }
          },
          "ternary": {
           "aaxis": {
            "gridcolor": "white",
            "linecolor": "white",
            "ticks": ""
           },
           "baxis": {
            "gridcolor": "white",
            "linecolor": "white",
            "ticks": ""
           },
           "bgcolor": "#E5ECF6",
           "caxis": {
            "gridcolor": "white",
            "linecolor": "white",
            "ticks": ""
           }
          },
          "title": {
           "x": 0.05
          },
          "xaxis": {
           "automargin": true,
           "gridcolor": "white",
           "linecolor": "white",
           "ticks": "",
           "title": {
            "standoff": 15
           },
           "zerolinecolor": "white",
           "zerolinewidth": 2
          },
          "yaxis": {
           "automargin": true,
           "gridcolor": "white",
           "linecolor": "white",
           "ticks": "",
           "title": {
            "standoff": 15
           },
           "zerolinecolor": "white",
           "zerolinewidth": 2
          }
         }
        },
        "title": {
         "text": "Neural Network Confusion Matrix",
         "x": 0.5
        },
        "xaxis": {
         "anchor": "y",
         "constrain": "domain",
         "domain": [
          0,
          1
         ],
         "scaleanchor": "y",
         "title": {
          "text": "Predicted Values"
         }
        },
        "yaxis": {
         "anchor": "x",
         "autorange": "reversed",
         "constrain": "domain",
         "domain": [
          0,
          1
         ],
         "title": {
          "text": "Actual Values"
         }
        }
       }
      }
     },
     "metadata": {},
     "output_type": "display_data"
    }
   ],
   "source": [
    "import plotly.express as px\n",
    "import numpy as np\n",
    "\n",
    "def plot_confusion_matrix(values, title=\"Confusion Matrix\"):\n",
    "    TP, FP, FN, TN = values\n",
    "\n",
    "    matrix = np.array([\n",
    "        [TP, FN],\n",
    "        [FP, TN]\n",
    "    ])\n",
    "    x_labels = [\"Predicted Positive\", \"Predicted Negative\"]\n",
    "    y_labels = [\"Actual Positive\", \"Actual Negative\"]\n",
    "\n",
    "    fig = px.imshow(matrix, labels=dict(x=\"Predicted Values\", y=\"Actual Values\", color=\"Count\"),\n",
    "                    x=x_labels, y=y_labels, color_continuous_scale=\"blues\")\n",
    "\n",
    "    fig.update_layout(title_text=title, title_x=0.5)\n",
    "    for i, row in enumerate(matrix):\n",
    "        for j, value in enumerate(row):\n",
    "            fig.add_annotation(dict(\n",
    "                x=j, y=i,\n",
    "                text=str(value),\n",
    "                showarrow=False,\n",
    "                font_size=16,\n",
    "                opacity=0.7,\n",
    "                font_color='black'\n",
    "            ))\n",
    "    fig.show()\n",
    "\n",
    "values = [94062, 1787, 3076, 61121]  # Example values (replace with your own)\n",
    "plot_confusion_matrix(values, title=\"Neural Network Confusion Matrix\")"
   ]
  },
  {
   "cell_type": "code",
   "execution_count": 98,
   "metadata": {},
   "outputs": [
    {
     "name": "stdout",
     "output_type": "stream",
     "text": [
      "{'num_layers': 5, 'units_0': 672, 'activation_0': 'tanh', 'weight_decay_0': 0.006957259092226169, 'units_1': 128, 'activation_1': 'relu', 'weight_decay_1': 0.005826016708182784, 'dropout': True, 'learning_rate': 0.0001, 'units_2': 384, 'activation_2': 'relu', 'weight_decay_2': 0.0004575703546504062, 'units_3': 32, 'activation_3': 'relu', 'weight_decay_3': 0.004430085324964402, 'units_4': 128, 'activation_4': 'relu', 'weight_decay_4': 0.0002765893495990468, 'units_5': 704, 'activation_5': 'tanh', 'weight_decay_5': 0.005206724153130433, 'dropout_5': 0.045, 'dropout_3': 0.055, 'dropout_1': 0.045, 'dropout_4': 0.015, 'dropout_2': 0.015, 'tuner/epochs': 50, 'tuner/initial_epoch': 17, 'tuner/bracket': 3, 'tuner/round': 3, 'tuner/trial_id': '0316'}\n"
     ]
    }
   ],
   "source": [
    "print(best_hps.values)"
   ]
  }
 ],
 "metadata": {
  "kernelspec": {
   "display_name": "tf3.8",
   "language": "python",
   "name": "python3"
  },
  "language_info": {
   "codemirror_mode": {
    "name": "ipython",
    "version": 3
   },
   "file_extension": ".py",
   "mimetype": "text/x-python",
   "name": "python",
   "nbconvert_exporter": "python",
   "pygments_lexer": "ipython3",
   "version": "3.8.16"
  },
  "orig_nbformat": 4
 },
 "nbformat": 4,
 "nbformat_minor": 2
}
